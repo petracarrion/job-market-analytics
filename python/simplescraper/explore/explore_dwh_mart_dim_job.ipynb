{
 "cells": [
  {
   "cell_type": "code",
   "execution_count": 1,
   "metadata": {
    "pycharm": {
     "name": "#%%\n"
    }
   },
   "outputs": [],
   "source": [
    "from common.explore import display_sql"
   ]
  },
  {
   "cell_type": "code",
   "execution_count": 2,
   "outputs": [
    {
     "data": {
      "text/plain": "                                job_key   job_id            job_ldts  \\\n0      a562531d15b5f0e1d466d00a9c10799c  6226881 2022-08-20 05:00:00   \n1      bc3034a5d94a222875ff4730d7dbaa0f  6809905 2022-08-20 05:00:00   \n2      5afbf2a3c452d4a988268d12f87d1be9  6898134 2022-08-20 05:00:00   \n3      15d85ce43c9f8744d7aa043e38c7d44f  7121358 2022-08-20 05:00:00   \n4      45a3186cbab58a150aec0ad173df080f  7138865 2022-08-20 05:00:00   \n...                                 ...      ...                 ...   \n95866  980b183c432813fe59f155ae0704424d  8564714 2022-08-02 23:00:00   \n95867  a9871b8a559d6c73bc182bb7f589ed10  8564717 2022-08-02 23:00:00   \n95868  354c7532a62bf5141dc614f2122a9709  8564721 2022-08-02 23:00:00   \n95869  d86b3c4b4b52932db74046ce0154376e  8564805 2022-08-02 23:00:00   \n95870  dc699380629270827bef8b274e9582c7  8564806 2022-08-02 23:00:00   \n\n                                                   title  \\\n0        Kaufmännischer Mitarbeiter Wareneingang (m/w/d)   \n1           Mechatroniker/ Elektriker/ Schlosser (m/w/d)   \n2      Elektronikentwickler*in, Mikroelektroniker*in,...   \n3      Vertriebsmitarbeiter (m/w/d) im Außendienst fü...   \n4      Fachärztin / Facharzt (m/w/d) für Orthopädie /...   \n...                                                  ...   \n95866                      Lean/ Growtth Manager (w/m/d)   \n95867                              Cost Engineer (w/m/d)   \n95868              Werkstudent Materialwirtschaft (w/m/d   \n95869                    Baufinanzierungsberater (m/w/d)   \n95870  Mitarbeiter Bau- und Immobilienmanagement (m/w/d)   \n\n                                     company_name  \n0                               RDB plastics GmbH  \n1       Fude + Serrahn Milchprodukte GmbH & Co.KG  \n2         MK Versuchsanlagen und Laborbedarf e.K.  \n3        Toshiba Tec Germany Imaging Systems GmbH  \n4               Institut für Versicherungsmedizin  \n...                                           ...  \n95866  Freudenberg Fuel Cell e-Power Systems GmbH  \n95867  Freudenberg Fuel Cell e-Power Systems GmbH  \n95868  Freudenberg Fuel Cell e-Power Systems GmbH  \n95869                      Volksbank Köln Bonn eG  \n95870                     Volksbank eG Überlingen  \n\n[95871 rows x 5 columns]",
      "text/html": "<div>\n<style scoped>\n    .dataframe tbody tr th:only-of-type {\n        vertical-align: middle;\n    }\n\n    .dataframe tbody tr th {\n        vertical-align: top;\n    }\n\n    .dataframe thead th {\n        text-align: right;\n    }\n</style>\n<table border=\"1\" class=\"dataframe\">\n  <thead>\n    <tr style=\"text-align: right;\">\n      <th></th>\n      <th>job_key</th>\n      <th>job_id</th>\n      <th>job_ldts</th>\n      <th>title</th>\n      <th>company_name</th>\n    </tr>\n  </thead>\n  <tbody>\n    <tr>\n      <th>0</th>\n      <td>a562531d15b5f0e1d466d00a9c10799c</td>\n      <td>6226881</td>\n      <td>2022-08-20 05:00:00</td>\n      <td>Kaufmännischer Mitarbeiter Wareneingang (m/w/d)</td>\n      <td>RDB plastics GmbH</td>\n    </tr>\n    <tr>\n      <th>1</th>\n      <td>bc3034a5d94a222875ff4730d7dbaa0f</td>\n      <td>6809905</td>\n      <td>2022-08-20 05:00:00</td>\n      <td>Mechatroniker/ Elektriker/ Schlosser (m/w/d)</td>\n      <td>Fude + Serrahn Milchprodukte GmbH &amp; Co.KG</td>\n    </tr>\n    <tr>\n      <th>2</th>\n      <td>5afbf2a3c452d4a988268d12f87d1be9</td>\n      <td>6898134</td>\n      <td>2022-08-20 05:00:00</td>\n      <td>Elektronikentwickler*in, Mikroelektroniker*in,...</td>\n      <td>MK Versuchsanlagen und Laborbedarf e.K.</td>\n    </tr>\n    <tr>\n      <th>3</th>\n      <td>15d85ce43c9f8744d7aa043e38c7d44f</td>\n      <td>7121358</td>\n      <td>2022-08-20 05:00:00</td>\n      <td>Vertriebsmitarbeiter (m/w/d) im Außendienst fü...</td>\n      <td>Toshiba Tec Germany Imaging Systems GmbH</td>\n    </tr>\n    <tr>\n      <th>4</th>\n      <td>45a3186cbab58a150aec0ad173df080f</td>\n      <td>7138865</td>\n      <td>2022-08-20 05:00:00</td>\n      <td>Fachärztin / Facharzt (m/w/d) für Orthopädie /...</td>\n      <td>Institut für Versicherungsmedizin</td>\n    </tr>\n    <tr>\n      <th>...</th>\n      <td>...</td>\n      <td>...</td>\n      <td>...</td>\n      <td>...</td>\n      <td>...</td>\n    </tr>\n    <tr>\n      <th>95866</th>\n      <td>980b183c432813fe59f155ae0704424d</td>\n      <td>8564714</td>\n      <td>2022-08-02 23:00:00</td>\n      <td>Lean/ Growtth Manager (w/m/d)</td>\n      <td>Freudenberg Fuel Cell e-Power Systems GmbH</td>\n    </tr>\n    <tr>\n      <th>95867</th>\n      <td>a9871b8a559d6c73bc182bb7f589ed10</td>\n      <td>8564717</td>\n      <td>2022-08-02 23:00:00</td>\n      <td>Cost Engineer (w/m/d)</td>\n      <td>Freudenberg Fuel Cell e-Power Systems GmbH</td>\n    </tr>\n    <tr>\n      <th>95868</th>\n      <td>354c7532a62bf5141dc614f2122a9709</td>\n      <td>8564721</td>\n      <td>2022-08-02 23:00:00</td>\n      <td>Werkstudent Materialwirtschaft (w/m/d</td>\n      <td>Freudenberg Fuel Cell e-Power Systems GmbH</td>\n    </tr>\n    <tr>\n      <th>95869</th>\n      <td>d86b3c4b4b52932db74046ce0154376e</td>\n      <td>8564805</td>\n      <td>2022-08-02 23:00:00</td>\n      <td>Baufinanzierungsberater (m/w/d)</td>\n      <td>Volksbank Köln Bonn eG</td>\n    </tr>\n    <tr>\n      <th>95870</th>\n      <td>dc699380629270827bef8b274e9582c7</td>\n      <td>8564806</td>\n      <td>2022-08-02 23:00:00</td>\n      <td>Mitarbeiter Bau- und Immobilienmanagement (m/w/d)</td>\n      <td>Volksbank eG Überlingen</td>\n    </tr>\n  </tbody>\n</table>\n<p>95871 rows × 5 columns</p>\n</div>"
     },
     "execution_count": 2,
     "metadata": {},
     "output_type": "execute_result"
    }
   ],
   "source": [
    "display_sql(f'''\n",
    "WITH temp_job AS (\n",
    "SELECT *\n",
    "  FROM curated.job\n",
    " WHERE year = 2022 AND\n",
    "       month = 8\n",
    ")\n",
    "SELECT MD5(CONCAT_WS('||',\n",
    "            COALESCE(\n",
    "                job_id,\n",
    "                UPPER(TRIM(CAST(\n",
    "                    job_id\n",
    "                AS VARCHAR))),\n",
    "                NULL,\n",
    "                '^^'),\n",
    "            COALESCE(\n",
    "                load_timestamp,\n",
    "                UPPER(TRIM(CAST(\n",
    "                    load_timestamp\n",
    "                AS VARCHAR))),\n",
    "                NULL,\n",
    "                '^^')\n",
    "       )) AS job_key,\n",
    "       job_id,\n",
    "       load_timestamp as job_ldts,\n",
    "       title,\n",
    "       company_name\n",
    "  FROM temp_job\n",
    "''')\n"
   ],
   "metadata": {
    "collapsed": false,
    "pycharm": {
     "name": "#%%\n"
    }
   }
  },
  {
   "cell_type": "code",
   "execution_count": 3,
   "outputs": [
    {
     "data": {
      "text/plain": "                             job_key   job_id            job_ldts  \\\n0   03cef34e2a36e56439c0e85e97d5eb25  3146267 2021-11-20 11:00:00   \n1   b4c9e3c64c884e08f3a14b8c66e802a4  4196845 2021-11-20 11:00:00   \n2   e24e186099fd8e2410b6075505de2975  4312165 2021-11-20 11:00:00   \n3   1d579437fccc189549c13b585543bb17  5224165 2021-11-20 11:00:00   \n4   ffd9c0655a2b8ca087a2219b6ea28fb2  5432734 2021-11-20 11:00:00   \n..                               ...      ...                 ...   \n95  d44c8c8c46f955e201ae304375ad3b34  7498464 2021-11-20 11:00:00   \n96  48929eccb609e90243d5de9beb29a371  7498767 2021-11-20 11:00:00   \n97  1d3204cfe98e59ea72054819c616e032  7501280 2021-11-20 11:00:00   \n98  47f741eec823d96258d6a8b9eb19ebdb  7507202 2021-11-20 11:00:00   \n99  9ab3990fd6ec3bc07ba072ed91a2fc37  7508542 2021-11-20 11:00:00   \n\n                                                title  \\\n0   Praktikant / Werkstudent Sekretariat Teilzeit/...   \n1   (Senior) Consultant International Payroll Mana...   \n2                         Executive Assistant (w/m/d)   \n3   Security Consultant - Automotive Security (m/w/d)   \n4                          Penetration Tester (m/w/d)   \n..                                                ...   \n95                                F&B Manager (m/w/d)   \n96  Product Owner Bosch Connected Biking: Customiz...   \n97  Software Developer (w/m/d) Backend Java (auch ...   \n98           service techniker und mechaniker (m/w/d)   \n99  Examinierte Pflegefachkraft / Pflegekraft (m/w...   \n\n                                       company_name  \n0                                               PwC  \n1                                               PwC  \n2                                               PwC  \n3                                      ESCRYPT GmbH  \n4                                      ESCRYPT GmbH  \n..                                              ...  \n95  R & S Hotelbetriebsgesellschaft mbH AMANO GROUP  \n96                                     Bosch Gruppe  \n97                                              1&1  \n98                                       falch gmbh  \n99                        maranatha SeniorenZentrum  \n\n[100 rows x 5 columns]",
      "text/html": "<div>\n<style scoped>\n    .dataframe tbody tr th:only-of-type {\n        vertical-align: middle;\n    }\n\n    .dataframe tbody tr th {\n        vertical-align: top;\n    }\n\n    .dataframe thead th {\n        text-align: right;\n    }\n</style>\n<table border=\"1\" class=\"dataframe\">\n  <thead>\n    <tr style=\"text-align: right;\">\n      <th></th>\n      <th>job_key</th>\n      <th>job_id</th>\n      <th>job_ldts</th>\n      <th>title</th>\n      <th>company_name</th>\n    </tr>\n  </thead>\n  <tbody>\n    <tr>\n      <th>0</th>\n      <td>03cef34e2a36e56439c0e85e97d5eb25</td>\n      <td>3146267</td>\n      <td>2021-11-20 11:00:00</td>\n      <td>Praktikant / Werkstudent Sekretariat Teilzeit/...</td>\n      <td>PwC</td>\n    </tr>\n    <tr>\n      <th>1</th>\n      <td>b4c9e3c64c884e08f3a14b8c66e802a4</td>\n      <td>4196845</td>\n      <td>2021-11-20 11:00:00</td>\n      <td>(Senior) Consultant International Payroll Mana...</td>\n      <td>PwC</td>\n    </tr>\n    <tr>\n      <th>2</th>\n      <td>e24e186099fd8e2410b6075505de2975</td>\n      <td>4312165</td>\n      <td>2021-11-20 11:00:00</td>\n      <td>Executive Assistant (w/m/d)</td>\n      <td>PwC</td>\n    </tr>\n    <tr>\n      <th>3</th>\n      <td>1d579437fccc189549c13b585543bb17</td>\n      <td>5224165</td>\n      <td>2021-11-20 11:00:00</td>\n      <td>Security Consultant - Automotive Security (m/w/d)</td>\n      <td>ESCRYPT GmbH</td>\n    </tr>\n    <tr>\n      <th>4</th>\n      <td>ffd9c0655a2b8ca087a2219b6ea28fb2</td>\n      <td>5432734</td>\n      <td>2021-11-20 11:00:00</td>\n      <td>Penetration Tester (m/w/d)</td>\n      <td>ESCRYPT GmbH</td>\n    </tr>\n    <tr>\n      <th>...</th>\n      <td>...</td>\n      <td>...</td>\n      <td>...</td>\n      <td>...</td>\n      <td>...</td>\n    </tr>\n    <tr>\n      <th>95</th>\n      <td>d44c8c8c46f955e201ae304375ad3b34</td>\n      <td>7498464</td>\n      <td>2021-11-20 11:00:00</td>\n      <td>F&amp;B Manager (m/w/d)</td>\n      <td>R &amp; S Hotelbetriebsgesellschaft mbH AMANO GROUP</td>\n    </tr>\n    <tr>\n      <th>96</th>\n      <td>48929eccb609e90243d5de9beb29a371</td>\n      <td>7498767</td>\n      <td>2021-11-20 11:00:00</td>\n      <td>Product Owner Bosch Connected Biking: Customiz...</td>\n      <td>Bosch Gruppe</td>\n    </tr>\n    <tr>\n      <th>97</th>\n      <td>1d3204cfe98e59ea72054819c616e032</td>\n      <td>7501280</td>\n      <td>2021-11-20 11:00:00</td>\n      <td>Software Developer (w/m/d) Backend Java (auch ...</td>\n      <td>1&amp;1</td>\n    </tr>\n    <tr>\n      <th>98</th>\n      <td>47f741eec823d96258d6a8b9eb19ebdb</td>\n      <td>7507202</td>\n      <td>2021-11-20 11:00:00</td>\n      <td>service techniker und mechaniker (m/w/d)</td>\n      <td>falch gmbh</td>\n    </tr>\n    <tr>\n      <th>99</th>\n      <td>9ab3990fd6ec3bc07ba072ed91a2fc37</td>\n      <td>7508542</td>\n      <td>2021-11-20 11:00:00</td>\n      <td>Examinierte Pflegefachkraft / Pflegekraft (m/w...</td>\n      <td>maranatha SeniorenZentrum</td>\n    </tr>\n  </tbody>\n</table>\n<p>100 rows × 5 columns</p>\n</div>"
     },
     "execution_count": 3,
     "metadata": {},
     "output_type": "execute_result"
    }
   ],
   "source": [
    "display_sql(f'''\n",
    "SELECT *\n",
    "  FROM dim_job\n",
    "  LIMIT 100\n",
    "''')\n"
   ],
   "metadata": {
    "collapsed": false,
    "pycharm": {
     "name": "#%%\n"
    }
   }
  },
  {
   "cell_type": "code",
   "execution_count": 4,
   "outputs": [
    {
     "data": {
      "text/plain": "Empty DataFrame\nColumns: [job_key, job_id, job_ldts, title, company_name, job_id_2, load_timestamp, title_2, online_status, is_anonymous, should_display_early_applicant, contract_type, work_type, online_date, company_name_2, description_introduction, description_responsabilities, description_requirements, description_perks, day, month, year]\nIndex: []\n\n[0 rows x 22 columns]",
      "text/html": "<div>\n<style scoped>\n    .dataframe tbody tr th:only-of-type {\n        vertical-align: middle;\n    }\n\n    .dataframe tbody tr th {\n        vertical-align: top;\n    }\n\n    .dataframe thead th {\n        text-align: right;\n    }\n</style>\n<table border=\"1\" class=\"dataframe\">\n  <thead>\n    <tr style=\"text-align: right;\">\n      <th></th>\n      <th>job_key</th>\n      <th>job_id</th>\n      <th>job_ldts</th>\n      <th>title</th>\n      <th>company_name</th>\n      <th>job_id_2</th>\n      <th>load_timestamp</th>\n      <th>title_2</th>\n      <th>online_status</th>\n      <th>is_anonymous</th>\n      <th>...</th>\n      <th>work_type</th>\n      <th>online_date</th>\n      <th>company_name_2</th>\n      <th>description_introduction</th>\n      <th>description_responsabilities</th>\n      <th>description_requirements</th>\n      <th>description_perks</th>\n      <th>day</th>\n      <th>month</th>\n      <th>year</th>\n    </tr>\n  </thead>\n  <tbody>\n  </tbody>\n</table>\n<p>0 rows × 22 columns</p>\n</div>"
     },
     "execution_count": 4,
     "metadata": {},
     "output_type": "execute_result"
    }
   ],
   "source": [
    "display_sql(f'''\n",
    "SELECT *\n",
    "  FROM dim_job\n",
    "  LEFT OUTER JOIN curated.job\n",
    "    ON (dim_job.job_id   = job.job_id AND\n",
    "        dim_job.job_ldts = job.load_timestamp)\n",
    " WHERE job.job_id IS NULL\n",
    "''')\n"
   ],
   "metadata": {
    "collapsed": false,
    "pycharm": {
     "name": "#%%\n"
    }
   }
  },
  {
   "cell_type": "code",
   "execution_count": 5,
   "outputs": [
    {
     "data": {
      "text/plain": "   count_star()\n0       1159727",
      "text/html": "<div>\n<style scoped>\n    .dataframe tbody tr th:only-of-type {\n        vertical-align: middle;\n    }\n\n    .dataframe tbody tr th {\n        vertical-align: top;\n    }\n\n    .dataframe thead th {\n        text-align: right;\n    }\n</style>\n<table border=\"1\" class=\"dataframe\">\n  <thead>\n    <tr style=\"text-align: right;\">\n      <th></th>\n      <th>count_star()</th>\n    </tr>\n  </thead>\n  <tbody>\n    <tr>\n      <th>0</th>\n      <td>1159727</td>\n    </tr>\n  </tbody>\n</table>\n</div>"
     },
     "execution_count": 5,
     "metadata": {},
     "output_type": "execute_result"
    }
   ],
   "source": [
    "display_sql(f'''\n",
    "SELECT COUNT(*)\n",
    "  FROM curated.job\n",
    "''')\n"
   ],
   "metadata": {
    "collapsed": false,
    "pycharm": {
     "name": "#%%\n"
    }
   }
  },
  {
   "cell_type": "code",
   "execution_count": 6,
   "outputs": [
    {
     "data": {
      "text/plain": "   count_star()\n0       1159727",
      "text/html": "<div>\n<style scoped>\n    .dataframe tbody tr th:only-of-type {\n        vertical-align: middle;\n    }\n\n    .dataframe tbody tr th {\n        vertical-align: top;\n    }\n\n    .dataframe thead th {\n        text-align: right;\n    }\n</style>\n<table border=\"1\" class=\"dataframe\">\n  <thead>\n    <tr style=\"text-align: right;\">\n      <th></th>\n      <th>count_star()</th>\n    </tr>\n  </thead>\n  <tbody>\n    <tr>\n      <th>0</th>\n      <td>1159727</td>\n    </tr>\n  </tbody>\n</table>\n</div>"
     },
     "execution_count": 6,
     "metadata": {},
     "output_type": "execute_result"
    }
   ],
   "source": [
    "display_sql(f'''\n",
    "SELECT COUNT(*)\n",
    "  FROM dim_job\n",
    "''')"
   ],
   "metadata": {
    "collapsed": false,
    "pycharm": {
     "name": "#%%\n"
    }
   }
  }
 ],
 "metadata": {
  "kernelspec": {
   "display_name": "Python 3 (ipykernel)",
   "language": "python",
   "name": "python3"
  },
  "language_info": {
   "codemirror_mode": {
    "name": "ipython",
    "version": 3
   },
   "file_extension": ".py",
   "mimetype": "text/x-python",
   "name": "python",
   "nbconvert_exporter": "python",
   "pygments_lexer": "ipython3",
   "version": "3.10.6"
  }
 },
 "nbformat": 4,
 "nbformat_minor": 1
}