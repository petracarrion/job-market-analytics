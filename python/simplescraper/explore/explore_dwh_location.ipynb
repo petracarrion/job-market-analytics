{
 "cells": [
  {
   "cell_type": "code",
   "execution_count": 1,
   "outputs": [],
   "source": [
    "import duckdb\n",
    "import pandas as pd\n",
    "import plotly.express as px\n",
    "from plotly_calplot import calplot\n",
    "\n",
    "from common.env_variables import DUCKDB_DWH_FILE"
   ],
   "metadata": {
    "collapsed": false,
    "pycharm": {
     "name": "#%%\n"
    }
   }
  },
  {
   "cell_type": "code",
   "execution_count": 2,
   "outputs": [],
   "source": [
    "def display_df(df):\n",
    "    with pd.option_context('display.max_rows', None, 'display.max_columns', None, \"expand_frame_repr\", False, \"display.float_format\", '${:,.2f}'.format):\n",
    "        display(df.fillna('.'))"
   ],
   "metadata": {
    "collapsed": false,
    "pycharm": {
     "name": "#%%\n"
    }
   }
  },
  {
   "cell_type": "code",
   "execution_count": 3,
   "outputs": [],
   "source": [
    "conn = duckdb.connect(DUCKDB_DWH_FILE, read_only=True)"
   ],
   "metadata": {
    "collapsed": false,
    "pycharm": {
     "name": "#%%\n"
    }
   }
  },
  {
   "cell_type": "code",
   "execution_count": 4,
   "outputs": [
    {
     "data": {
      "text/plain": "                   location  job_count\n0                    Berlin      98461\n1                   Hamburg      88763\n2                   München      85657\n3         Frankfurt am Main      55276\n4                 Stuttgart      44858\n5                      Köln      44203\n6                Düsseldorf      42574\n7                  Hannover      21827\n8                  Nürnberg      18802\n9                   Leipzig      16443\n10                    Essen      15877\n11                   Bremen      14867\n12                Karlsruhe      14226\n13                 Mannheim      12509\n14                 Dortmund      12068\n15                     Bonn      11815\n16                  Dresden      11510\n17                  Münster       9021\n18                Wiesbaden       7999\n19                      Ulm       7942\n20                Bielefeld       6671\n21                    Mainz       6622\n22                 Augsburg       6620\n23               Heidelberg       6426\n24                     Kiel       6137\n25                 Duisburg       6050\n26               bundesweit       5759\n27               Regensburg       5731\n28                Darmstadt       5592\n29             Braunschweig       5492\n30                   Aachen       5183\n31               Neckarsulm       5086\n32                   Bochum       4981\n33                   Erfurt       4973\n34               Ingolstadt       4836\n35                   Kassel       4659\n36                Wolfsburg       4471\n37                 Würzburg       4439\n38                 Freiburg       4310\n39                   Lübeck       4276\n40         Kreisfreie Stadt       4098\n41                Gütersloh       4083\n42              Home-Office       3971\n43                Osnabrück       3851\n44                Magdeburg       3825\n45                  Rostock       3763\n46                Heilbronn       3728\n47                  Potsdam       3670\n48                  Koblenz       3550\n49                Wuppertal       3415\n50     Freiburg im Breisgau       3394\n51               Reutlingen       3381\n52                  Krefeld       3370\n53                     Jena       3363\n54             Sindelfingen       3260\n55                 Chemnitz       3234\n56          Mönchengladbach       3130\n57              Saarbrücken       3034\n58              Ludwigsburg       2982\n59                Oldenburg       2739\n60                    Neuss       2739\n61                 Erlangen       2553\n62                Pforzheim       2552\n63                Göttingen       2536\n64                 Ratingen       2489\n65                Paderborn       2460\n66          deutschlandweit       2376\n67                 Tübingen       2363\n68              Norderstedt       2317\n69               Leverkusen       2244\n70                 Eschborn       2189\n71                     Main       2172\n72               Homeoffice       2159\n73               Oberkochen       2140\n74             Ludwigshafen       2097\n75               Oberhausen       2082\n76                Böblingen       2075\n77  Leinfelden-Echterdingen       2037\n78                 Bayreuth       1997\n79                Offenburg       1967\n80            Halle (Saale)       1949\n81                    Hanau       1851\n82                   Minden       1782\n83           Kaiserslautern       1759\n84                    Fulda       1680\n85                    Fürth       1678\n86            Gelsenkirchen       1669\n87              Baden-Baden       1655\n88                  Bamberg       1654\n89               Hildesheim       1627\n90                   Munich       1618\n91                   Gießen       1611\n92                 Landshut       1604\n93                 Konstanz       1602\n94          Friedrichshafen       1588\n95                    Hagen       1588\n96        Baden-Württemberg       1557\n97             Neu-Isenburg       1553\n98                Flensburg       1493\n99                    Trier       1483",
      "text/html": "<div>\n<style scoped>\n    .dataframe tbody tr th:only-of-type {\n        vertical-align: middle;\n    }\n\n    .dataframe tbody tr th {\n        vertical-align: top;\n    }\n\n    .dataframe thead th {\n        text-align: right;\n    }\n</style>\n<table border=\"1\" class=\"dataframe\">\n  <thead>\n    <tr style=\"text-align: right;\">\n      <th></th>\n      <th>location</th>\n      <th>job_count</th>\n    </tr>\n  </thead>\n  <tbody>\n    <tr>\n      <th>0</th>\n      <td>Berlin</td>\n      <td>98461</td>\n    </tr>\n    <tr>\n      <th>1</th>\n      <td>Hamburg</td>\n      <td>88763</td>\n    </tr>\n    <tr>\n      <th>2</th>\n      <td>München</td>\n      <td>85657</td>\n    </tr>\n    <tr>\n      <th>3</th>\n      <td>Frankfurt am Main</td>\n      <td>55276</td>\n    </tr>\n    <tr>\n      <th>4</th>\n      <td>Stuttgart</td>\n      <td>44858</td>\n    </tr>\n    <tr>\n      <th>5</th>\n      <td>Köln</td>\n      <td>44203</td>\n    </tr>\n    <tr>\n      <th>6</th>\n      <td>Düsseldorf</td>\n      <td>42574</td>\n    </tr>\n    <tr>\n      <th>7</th>\n      <td>Hannover</td>\n      <td>21827</td>\n    </tr>\n    <tr>\n      <th>8</th>\n      <td>Nürnberg</td>\n      <td>18802</td>\n    </tr>\n    <tr>\n      <th>9</th>\n      <td>Leipzig</td>\n      <td>16443</td>\n    </tr>\n    <tr>\n      <th>10</th>\n      <td>Essen</td>\n      <td>15877</td>\n    </tr>\n    <tr>\n      <th>11</th>\n      <td>Bremen</td>\n      <td>14867</td>\n    </tr>\n    <tr>\n      <th>12</th>\n      <td>Karlsruhe</td>\n      <td>14226</td>\n    </tr>\n    <tr>\n      <th>13</th>\n      <td>Mannheim</td>\n      <td>12509</td>\n    </tr>\n    <tr>\n      <th>14</th>\n      <td>Dortmund</td>\n      <td>12068</td>\n    </tr>\n    <tr>\n      <th>15</th>\n      <td>Bonn</td>\n      <td>11815</td>\n    </tr>\n    <tr>\n      <th>16</th>\n      <td>Dresden</td>\n      <td>11510</td>\n    </tr>\n    <tr>\n      <th>17</th>\n      <td>Münster</td>\n      <td>9021</td>\n    </tr>\n    <tr>\n      <th>18</th>\n      <td>Wiesbaden</td>\n      <td>7999</td>\n    </tr>\n    <tr>\n      <th>19</th>\n      <td>Ulm</td>\n      <td>7942</td>\n    </tr>\n    <tr>\n      <th>20</th>\n      <td>Bielefeld</td>\n      <td>6671</td>\n    </tr>\n    <tr>\n      <th>21</th>\n      <td>Mainz</td>\n      <td>6622</td>\n    </tr>\n    <tr>\n      <th>22</th>\n      <td>Augsburg</td>\n      <td>6620</td>\n    </tr>\n    <tr>\n      <th>23</th>\n      <td>Heidelberg</td>\n      <td>6426</td>\n    </tr>\n    <tr>\n      <th>24</th>\n      <td>Kiel</td>\n      <td>6137</td>\n    </tr>\n    <tr>\n      <th>25</th>\n      <td>Duisburg</td>\n      <td>6050</td>\n    </tr>\n    <tr>\n      <th>26</th>\n      <td>bundesweit</td>\n      <td>5759</td>\n    </tr>\n    <tr>\n      <th>27</th>\n      <td>Regensburg</td>\n      <td>5731</td>\n    </tr>\n    <tr>\n      <th>28</th>\n      <td>Darmstadt</td>\n      <td>5592</td>\n    </tr>\n    <tr>\n      <th>29</th>\n      <td>Braunschweig</td>\n      <td>5492</td>\n    </tr>\n    <tr>\n      <th>30</th>\n      <td>Aachen</td>\n      <td>5183</td>\n    </tr>\n    <tr>\n      <th>31</th>\n      <td>Neckarsulm</td>\n      <td>5086</td>\n    </tr>\n    <tr>\n      <th>32</th>\n      <td>Bochum</td>\n      <td>4981</td>\n    </tr>\n    <tr>\n      <th>33</th>\n      <td>Erfurt</td>\n      <td>4973</td>\n    </tr>\n    <tr>\n      <th>34</th>\n      <td>Ingolstadt</td>\n      <td>4836</td>\n    </tr>\n    <tr>\n      <th>35</th>\n      <td>Kassel</td>\n      <td>4659</td>\n    </tr>\n    <tr>\n      <th>36</th>\n      <td>Wolfsburg</td>\n      <td>4471</td>\n    </tr>\n    <tr>\n      <th>37</th>\n      <td>Würzburg</td>\n      <td>4439</td>\n    </tr>\n    <tr>\n      <th>38</th>\n      <td>Freiburg</td>\n      <td>4310</td>\n    </tr>\n    <tr>\n      <th>39</th>\n      <td>Lübeck</td>\n      <td>4276</td>\n    </tr>\n    <tr>\n      <th>40</th>\n      <td>Kreisfreie Stadt</td>\n      <td>4098</td>\n    </tr>\n    <tr>\n      <th>41</th>\n      <td>Gütersloh</td>\n      <td>4083</td>\n    </tr>\n    <tr>\n      <th>42</th>\n      <td>Home-Office</td>\n      <td>3971</td>\n    </tr>\n    <tr>\n      <th>43</th>\n      <td>Osnabrück</td>\n      <td>3851</td>\n    </tr>\n    <tr>\n      <th>44</th>\n      <td>Magdeburg</td>\n      <td>3825</td>\n    </tr>\n    <tr>\n      <th>45</th>\n      <td>Rostock</td>\n      <td>3763</td>\n    </tr>\n    <tr>\n      <th>46</th>\n      <td>Heilbronn</td>\n      <td>3728</td>\n    </tr>\n    <tr>\n      <th>47</th>\n      <td>Potsdam</td>\n      <td>3670</td>\n    </tr>\n    <tr>\n      <th>48</th>\n      <td>Koblenz</td>\n      <td>3550</td>\n    </tr>\n    <tr>\n      <th>49</th>\n      <td>Wuppertal</td>\n      <td>3415</td>\n    </tr>\n    <tr>\n      <th>50</th>\n      <td>Freiburg im Breisgau</td>\n      <td>3394</td>\n    </tr>\n    <tr>\n      <th>51</th>\n      <td>Reutlingen</td>\n      <td>3381</td>\n    </tr>\n    <tr>\n      <th>52</th>\n      <td>Krefeld</td>\n      <td>3370</td>\n    </tr>\n    <tr>\n      <th>53</th>\n      <td>Jena</td>\n      <td>3363</td>\n    </tr>\n    <tr>\n      <th>54</th>\n      <td>Sindelfingen</td>\n      <td>3260</td>\n    </tr>\n    <tr>\n      <th>55</th>\n      <td>Chemnitz</td>\n      <td>3234</td>\n    </tr>\n    <tr>\n      <th>56</th>\n      <td>Mönchengladbach</td>\n      <td>3130</td>\n    </tr>\n    <tr>\n      <th>57</th>\n      <td>Saarbrücken</td>\n      <td>3034</td>\n    </tr>\n    <tr>\n      <th>58</th>\n      <td>Ludwigsburg</td>\n      <td>2982</td>\n    </tr>\n    <tr>\n      <th>59</th>\n      <td>Oldenburg</td>\n      <td>2739</td>\n    </tr>\n    <tr>\n      <th>60</th>\n      <td>Neuss</td>\n      <td>2739</td>\n    </tr>\n    <tr>\n      <th>61</th>\n      <td>Erlangen</td>\n      <td>2553</td>\n    </tr>\n    <tr>\n      <th>62</th>\n      <td>Pforzheim</td>\n      <td>2552</td>\n    </tr>\n    <tr>\n      <th>63</th>\n      <td>Göttingen</td>\n      <td>2536</td>\n    </tr>\n    <tr>\n      <th>64</th>\n      <td>Ratingen</td>\n      <td>2489</td>\n    </tr>\n    <tr>\n      <th>65</th>\n      <td>Paderborn</td>\n      <td>2460</td>\n    </tr>\n    <tr>\n      <th>66</th>\n      <td>deutschlandweit</td>\n      <td>2376</td>\n    </tr>\n    <tr>\n      <th>67</th>\n      <td>Tübingen</td>\n      <td>2363</td>\n    </tr>\n    <tr>\n      <th>68</th>\n      <td>Norderstedt</td>\n      <td>2317</td>\n    </tr>\n    <tr>\n      <th>69</th>\n      <td>Leverkusen</td>\n      <td>2244</td>\n    </tr>\n    <tr>\n      <th>70</th>\n      <td>Eschborn</td>\n      <td>2189</td>\n    </tr>\n    <tr>\n      <th>71</th>\n      <td>Main</td>\n      <td>2172</td>\n    </tr>\n    <tr>\n      <th>72</th>\n      <td>Homeoffice</td>\n      <td>2159</td>\n    </tr>\n    <tr>\n      <th>73</th>\n      <td>Oberkochen</td>\n      <td>2140</td>\n    </tr>\n    <tr>\n      <th>74</th>\n      <td>Ludwigshafen</td>\n      <td>2097</td>\n    </tr>\n    <tr>\n      <th>75</th>\n      <td>Oberhausen</td>\n      <td>2082</td>\n    </tr>\n    <tr>\n      <th>76</th>\n      <td>Böblingen</td>\n      <td>2075</td>\n    </tr>\n    <tr>\n      <th>77</th>\n      <td>Leinfelden-Echterdingen</td>\n      <td>2037</td>\n    </tr>\n    <tr>\n      <th>78</th>\n      <td>Bayreuth</td>\n      <td>1997</td>\n    </tr>\n    <tr>\n      <th>79</th>\n      <td>Offenburg</td>\n      <td>1967</td>\n    </tr>\n    <tr>\n      <th>80</th>\n      <td>Halle (Saale)</td>\n      <td>1949</td>\n    </tr>\n    <tr>\n      <th>81</th>\n      <td>Hanau</td>\n      <td>1851</td>\n    </tr>\n    <tr>\n      <th>82</th>\n      <td>Minden</td>\n      <td>1782</td>\n    </tr>\n    <tr>\n      <th>83</th>\n      <td>Kaiserslautern</td>\n      <td>1759</td>\n    </tr>\n    <tr>\n      <th>84</th>\n      <td>Fulda</td>\n      <td>1680</td>\n    </tr>\n    <tr>\n      <th>85</th>\n      <td>Fürth</td>\n      <td>1678</td>\n    </tr>\n    <tr>\n      <th>86</th>\n      <td>Gelsenkirchen</td>\n      <td>1669</td>\n    </tr>\n    <tr>\n      <th>87</th>\n      <td>Baden-Baden</td>\n      <td>1655</td>\n    </tr>\n    <tr>\n      <th>88</th>\n      <td>Bamberg</td>\n      <td>1654</td>\n    </tr>\n    <tr>\n      <th>89</th>\n      <td>Hildesheim</td>\n      <td>1627</td>\n    </tr>\n    <tr>\n      <th>90</th>\n      <td>Munich</td>\n      <td>1618</td>\n    </tr>\n    <tr>\n      <th>91</th>\n      <td>Gießen</td>\n      <td>1611</td>\n    </tr>\n    <tr>\n      <th>92</th>\n      <td>Landshut</td>\n      <td>1604</td>\n    </tr>\n    <tr>\n      <th>93</th>\n      <td>Konstanz</td>\n      <td>1602</td>\n    </tr>\n    <tr>\n      <th>94</th>\n      <td>Friedrichshafen</td>\n      <td>1588</td>\n    </tr>\n    <tr>\n      <th>95</th>\n      <td>Hagen</td>\n      <td>1588</td>\n    </tr>\n    <tr>\n      <th>96</th>\n      <td>Baden-Württemberg</td>\n      <td>1557</td>\n    </tr>\n    <tr>\n      <th>97</th>\n      <td>Neu-Isenburg</td>\n      <td>1553</td>\n    </tr>\n    <tr>\n      <th>98</th>\n      <td>Flensburg</td>\n      <td>1493</td>\n    </tr>\n    <tr>\n      <th>99</th>\n      <td>Trier</td>\n      <td>1483</td>\n    </tr>\n  </tbody>\n</table>\n</div>"
     },
     "metadata": {},
     "output_type": "display_data"
    }
   ],
   "source": [
    "df = conn.execute(f'''\n",
    "SELECT * FROM location\n",
    "LIMIT 100\n",
    "''').df()\n",
    "display_df(df)"
   ],
   "metadata": {
    "collapsed": false,
    "pycharm": {
     "name": "#%%\n"
    }
   }
  },
  {
   "cell_type": "code",
   "execution_count": 5,
   "outputs": [],
   "source": [
    "conn.close()"
   ],
   "metadata": {
    "collapsed": false,
    "pycharm": {
     "name": "#%%\n"
    }
   }
  }
 ],
 "metadata": {
  "kernelspec": {
   "display_name": "Python 3",
   "language": "python",
   "name": "python3"
  },
  "language_info": {
   "codemirror_mode": {
    "name": "ipython",
    "version": 2
   },
   "file_extension": ".py",
   "mimetype": "text/x-python",
   "name": "python",
   "nbconvert_exporter": "python",
   "pygments_lexer": "ipython2",
   "version": "2.7.6"
  }
 },
 "nbformat": 4,
 "nbformat_minor": 0
}