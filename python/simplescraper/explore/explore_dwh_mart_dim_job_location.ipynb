{
 "cells": [
  {
   "cell_type": "code",
   "execution_count": 1,
   "metadata": {
    "pycharm": {
     "name": "#%%\n"
    }
   },
   "outputs": [],
   "source": [
    "from common.explore import display_sql"
   ]
  },
  {
   "cell_type": "code",
   "execution_count": 2,
   "outputs": [
    {
     "data": {
      "text/plain": "    job_id      load_timestamp         location day month  year\n0  8773209 2022-10-02 21:00:00       Wangerooge   2    10  2022\n1  8773210 2022-10-02 21:00:00          Hamburg   2    10  2022\n2  8773211 2022-10-02 21:00:00          Hamburg   2    10  2022\n3  8773212 2022-10-02 21:00:00           Oppurg   2    10  2022\n4  8773213 2022-10-02 21:00:00           Oppurg   2    10  2022\n5  8773214 2022-10-02 21:00:00     Unterföhring   2    10  2022\n6  8773215 2022-10-02 21:00:00         Mettmann   2    10  2022\n7  8773216 2022-10-02 21:00:00     Wyk auf Föhr   2    10  2022\n8  8773217 2022-10-02 21:00:00      Taunusstein   2    10  2022\n9  8773218 2022-10-02 21:00:00  Bad Reichenhall   2    10  2022",
      "text/html": "<div>\n<style scoped>\n    .dataframe tbody tr th:only-of-type {\n        vertical-align: middle;\n    }\n\n    .dataframe tbody tr th {\n        vertical-align: top;\n    }\n\n    .dataframe thead th {\n        text-align: right;\n    }\n</style>\n<table border=\"1\" class=\"dataframe\">\n  <thead>\n    <tr style=\"text-align: right;\">\n      <th></th>\n      <th>job_id</th>\n      <th>load_timestamp</th>\n      <th>location</th>\n      <th>day</th>\n      <th>month</th>\n      <th>year</th>\n    </tr>\n  </thead>\n  <tbody>\n    <tr>\n      <th>0</th>\n      <td>8773209</td>\n      <td>2022-10-02 21:00:00</td>\n      <td>Wangerooge</td>\n      <td>2</td>\n      <td>10</td>\n      <td>2022</td>\n    </tr>\n    <tr>\n      <th>1</th>\n      <td>8773210</td>\n      <td>2022-10-02 21:00:00</td>\n      <td>Hamburg</td>\n      <td>2</td>\n      <td>10</td>\n      <td>2022</td>\n    </tr>\n    <tr>\n      <th>2</th>\n      <td>8773211</td>\n      <td>2022-10-02 21:00:00</td>\n      <td>Hamburg</td>\n      <td>2</td>\n      <td>10</td>\n      <td>2022</td>\n    </tr>\n    <tr>\n      <th>3</th>\n      <td>8773212</td>\n      <td>2022-10-02 21:00:00</td>\n      <td>Oppurg</td>\n      <td>2</td>\n      <td>10</td>\n      <td>2022</td>\n    </tr>\n    <tr>\n      <th>4</th>\n      <td>8773213</td>\n      <td>2022-10-02 21:00:00</td>\n      <td>Oppurg</td>\n      <td>2</td>\n      <td>10</td>\n      <td>2022</td>\n    </tr>\n    <tr>\n      <th>5</th>\n      <td>8773214</td>\n      <td>2022-10-02 21:00:00</td>\n      <td>Unterföhring</td>\n      <td>2</td>\n      <td>10</td>\n      <td>2022</td>\n    </tr>\n    <tr>\n      <th>6</th>\n      <td>8773215</td>\n      <td>2022-10-02 21:00:00</td>\n      <td>Mettmann</td>\n      <td>2</td>\n      <td>10</td>\n      <td>2022</td>\n    </tr>\n    <tr>\n      <th>7</th>\n      <td>8773216</td>\n      <td>2022-10-02 21:00:00</td>\n      <td>Wyk auf Föhr</td>\n      <td>2</td>\n      <td>10</td>\n      <td>2022</td>\n    </tr>\n    <tr>\n      <th>8</th>\n      <td>8773217</td>\n      <td>2022-10-02 21:00:00</td>\n      <td>Taunusstein</td>\n      <td>2</td>\n      <td>10</td>\n      <td>2022</td>\n    </tr>\n    <tr>\n      <th>9</th>\n      <td>8773218</td>\n      <td>2022-10-02 21:00:00</td>\n      <td>Bad Reichenhall</td>\n      <td>2</td>\n      <td>10</td>\n      <td>2022</td>\n    </tr>\n  </tbody>\n</table>\n</div>"
     },
     "execution_count": 2,
     "metadata": {},
     "output_type": "execute_result"
    }
   ],
   "source": [
    "display_sql(f'''\n",
    "SELECT *\n",
    "  FROM curated.job_location\n",
    " ORDER BY load_timestamp DESC\n",
    " LIMIT 10\n",
    "''')\n"
   ],
   "metadata": {
    "collapsed": false,
    "pycharm": {
     "name": "#%%\n"
    }
   }
  },
  {
   "cell_type": "code",
   "execution_count": 3,
   "outputs": [
    {
     "data": {
      "text/plain": "                            job_key   job_id            job_ldts  \\\n0  2284064cc9722eedee78de0c83aaab97  8773209 2022-10-02 21:00:00   \n1  daac9fccfeafb13d2dfa142851a85407  8773210 2022-10-02 21:00:00   \n2  0d7360738d7b1591354958577eff3c12  8773211 2022-10-02 21:00:00   \n3  bd861b60fa66c019a79c989e34567d0f  8773212 2022-10-02 21:00:00   \n4  40cd7a2bebdcc033d1e36525f88769ca  8773213 2022-10-02 21:00:00   \n5  208e478152134a4578a416db5db25315  8773214 2022-10-02 21:00:00   \n6  b22e754e0b9e40019c5d37a5f763920f  8773215 2022-10-02 21:00:00   \n7  c5e88d3478f4eb46910aec45bcba2973  8773216 2022-10-02 21:00:00   \n8  1afb1a14faaa7e972d2733e83417e33f  8773217 2022-10-02 21:00:00   \n9  842e99e8a93d288b19e0651814fdc607  8773218 2022-10-02 21:00:00   \n\n     location_name  \n0       Wangerooge  \n1          Hamburg  \n2          Hamburg  \n3           Oppurg  \n4           Oppurg  \n5     Unterföhring  \n6         Mettmann  \n7     Wyk auf Föhr  \n8      Taunusstein  \n9  Bad Reichenhall  ",
      "text/html": "<div>\n<style scoped>\n    .dataframe tbody tr th:only-of-type {\n        vertical-align: middle;\n    }\n\n    .dataframe tbody tr th {\n        vertical-align: top;\n    }\n\n    .dataframe thead th {\n        text-align: right;\n    }\n</style>\n<table border=\"1\" class=\"dataframe\">\n  <thead>\n    <tr style=\"text-align: right;\">\n      <th></th>\n      <th>job_key</th>\n      <th>job_id</th>\n      <th>job_ldts</th>\n      <th>location_name</th>\n    </tr>\n  </thead>\n  <tbody>\n    <tr>\n      <th>0</th>\n      <td>2284064cc9722eedee78de0c83aaab97</td>\n      <td>8773209</td>\n      <td>2022-10-02 21:00:00</td>\n      <td>Wangerooge</td>\n    </tr>\n    <tr>\n      <th>1</th>\n      <td>daac9fccfeafb13d2dfa142851a85407</td>\n      <td>8773210</td>\n      <td>2022-10-02 21:00:00</td>\n      <td>Hamburg</td>\n    </tr>\n    <tr>\n      <th>2</th>\n      <td>0d7360738d7b1591354958577eff3c12</td>\n      <td>8773211</td>\n      <td>2022-10-02 21:00:00</td>\n      <td>Hamburg</td>\n    </tr>\n    <tr>\n      <th>3</th>\n      <td>bd861b60fa66c019a79c989e34567d0f</td>\n      <td>8773212</td>\n      <td>2022-10-02 21:00:00</td>\n      <td>Oppurg</td>\n    </tr>\n    <tr>\n      <th>4</th>\n      <td>40cd7a2bebdcc033d1e36525f88769ca</td>\n      <td>8773213</td>\n      <td>2022-10-02 21:00:00</td>\n      <td>Oppurg</td>\n    </tr>\n    <tr>\n      <th>5</th>\n      <td>208e478152134a4578a416db5db25315</td>\n      <td>8773214</td>\n      <td>2022-10-02 21:00:00</td>\n      <td>Unterföhring</td>\n    </tr>\n    <tr>\n      <th>6</th>\n      <td>b22e754e0b9e40019c5d37a5f763920f</td>\n      <td>8773215</td>\n      <td>2022-10-02 21:00:00</td>\n      <td>Mettmann</td>\n    </tr>\n    <tr>\n      <th>7</th>\n      <td>c5e88d3478f4eb46910aec45bcba2973</td>\n      <td>8773216</td>\n      <td>2022-10-02 21:00:00</td>\n      <td>Wyk auf Föhr</td>\n    </tr>\n    <tr>\n      <th>8</th>\n      <td>1afb1a14faaa7e972d2733e83417e33f</td>\n      <td>8773217</td>\n      <td>2022-10-02 21:00:00</td>\n      <td>Taunusstein</td>\n    </tr>\n    <tr>\n      <th>9</th>\n      <td>842e99e8a93d288b19e0651814fdc607</td>\n      <td>8773218</td>\n      <td>2022-10-02 21:00:00</td>\n      <td>Bad Reichenhall</td>\n    </tr>\n  </tbody>\n</table>\n</div>"
     },
     "execution_count": 3,
     "metadata": {},
     "output_type": "execute_result"
    }
   ],
   "source": [
    "display_sql(f'''\n",
    "SELECT *\n",
    " FROM dim_job_location\n",
    "ORDER BY job_ldts DESC\n",
    "LIMIT 10\n",
    "''')"
   ],
   "metadata": {
    "collapsed": false,
    "pycharm": {
     "name": "#%%\n"
    }
   }
  }
 ],
 "metadata": {
  "kernelspec": {
   "display_name": "Python 3 (ipykernel)",
   "language": "python",
   "name": "python3"
  },
  "language_info": {
   "codemirror_mode": {
    "name": "ipython",
    "version": 3
   },
   "file_extension": ".py",
   "mimetype": "text/x-python",
   "name": "python",
   "nbconvert_exporter": "python",
   "pygments_lexer": "ipython3",
   "version": "3.10.6"
  }
 },
 "nbformat": 4,
 "nbformat_minor": 1
}