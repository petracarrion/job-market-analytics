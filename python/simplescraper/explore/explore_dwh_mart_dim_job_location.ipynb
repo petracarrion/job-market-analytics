{
 "cells": [
  {
   "cell_type": "code",
   "execution_count": 1,
   "metadata": {
    "pycharm": {
     "name": "#%%\n"
    }
   },
   "outputs": [],
   "source": [
    "from common.explore import display_df, display_sql"
   ]
  },
  {
   "cell_type": "code",
   "execution_count": 2,
   "outputs": [
    {
     "data": {
      "text/plain": "    job_id      load_timestamp           location day month  year\n0  8842608 2022-10-21 22:00:00             Berlin  21    10  2022\n1  8842609 2022-10-21 22:00:00  Frankfurt am Main  21    10  2022\n2  8842610 2022-10-21 22:00:00             Berlin  21    10  2022\n3  8842611 2022-10-21 22:00:00  Bergisch Gladbach  21    10  2022\n4  8842612 2022-10-21 22:00:00            Hamburg  21    10  2022\n5  8842613 2022-10-21 22:00:00         Heidelberg  21    10  2022\n6  8842614 2022-10-21 22:00:00         Heidelberg  21    10  2022\n7  8842615 2022-10-21 22:00:00         Heidelberg  21    10  2022\n8  8842616 2022-10-21 22:00:00         Heidelberg  21    10  2022\n9  8842617 2022-10-21 22:00:00           Duisburg  21    10  2022",
      "text/html": "<div>\n<style scoped>\n    .dataframe tbody tr th:only-of-type {\n        vertical-align: middle;\n    }\n\n    .dataframe tbody tr th {\n        vertical-align: top;\n    }\n\n    .dataframe thead th {\n        text-align: right;\n    }\n</style>\n<table border=\"1\" class=\"dataframe\">\n  <thead>\n    <tr style=\"text-align: right;\">\n      <th></th>\n      <th>job_id</th>\n      <th>load_timestamp</th>\n      <th>location</th>\n      <th>day</th>\n      <th>month</th>\n      <th>year</th>\n    </tr>\n  </thead>\n  <tbody>\n    <tr>\n      <th>0</th>\n      <td>8842608</td>\n      <td>2022-10-21 22:00:00</td>\n      <td>Berlin</td>\n      <td>21</td>\n      <td>10</td>\n      <td>2022</td>\n    </tr>\n    <tr>\n      <th>1</th>\n      <td>8842609</td>\n      <td>2022-10-21 22:00:00</td>\n      <td>Frankfurt am Main</td>\n      <td>21</td>\n      <td>10</td>\n      <td>2022</td>\n    </tr>\n    <tr>\n      <th>2</th>\n      <td>8842610</td>\n      <td>2022-10-21 22:00:00</td>\n      <td>Berlin</td>\n      <td>21</td>\n      <td>10</td>\n      <td>2022</td>\n    </tr>\n    <tr>\n      <th>3</th>\n      <td>8842611</td>\n      <td>2022-10-21 22:00:00</td>\n      <td>Bergisch Gladbach</td>\n      <td>21</td>\n      <td>10</td>\n      <td>2022</td>\n    </tr>\n    <tr>\n      <th>4</th>\n      <td>8842612</td>\n      <td>2022-10-21 22:00:00</td>\n      <td>Hamburg</td>\n      <td>21</td>\n      <td>10</td>\n      <td>2022</td>\n    </tr>\n    <tr>\n      <th>5</th>\n      <td>8842613</td>\n      <td>2022-10-21 22:00:00</td>\n      <td>Heidelberg</td>\n      <td>21</td>\n      <td>10</td>\n      <td>2022</td>\n    </tr>\n    <tr>\n      <th>6</th>\n      <td>8842614</td>\n      <td>2022-10-21 22:00:00</td>\n      <td>Heidelberg</td>\n      <td>21</td>\n      <td>10</td>\n      <td>2022</td>\n    </tr>\n    <tr>\n      <th>7</th>\n      <td>8842615</td>\n      <td>2022-10-21 22:00:00</td>\n      <td>Heidelberg</td>\n      <td>21</td>\n      <td>10</td>\n      <td>2022</td>\n    </tr>\n    <tr>\n      <th>8</th>\n      <td>8842616</td>\n      <td>2022-10-21 22:00:00</td>\n      <td>Heidelberg</td>\n      <td>21</td>\n      <td>10</td>\n      <td>2022</td>\n    </tr>\n    <tr>\n      <th>9</th>\n      <td>8842617</td>\n      <td>2022-10-21 22:00:00</td>\n      <td>Duisburg</td>\n      <td>21</td>\n      <td>10</td>\n      <td>2022</td>\n    </tr>\n  </tbody>\n</table>\n</div>"
     },
     "execution_count": 2,
     "metadata": {},
     "output_type": "execute_result"
    }
   ],
   "source": [
    "display_sql(f'''\n",
    "SELECT *\n",
    "  FROM curated.job_location\n",
    " ORDER BY load_timestamp DESC\n",
    " LIMIT 10\n",
    "''')\n"
   ],
   "metadata": {
    "collapsed": false,
    "pycharm": {
     "name": "#%%\n"
    }
   }
  },
  {
   "cell_type": "code",
   "execution_count": 3,
   "outputs": [
    {
     "data": {
      "text/plain": "                            job_key   job_id            job_ldts  \\\n0  08f7f919d94e7950f0a1eeea8d85f9f4  8842608 2022-10-21 22:00:00   \n1  156fa6e60d690fd704047d8eef39032f  8842609 2022-10-21 22:00:00   \n2  c16c2107ebb5ddca11cbf1651f36adec  8842610 2022-10-21 22:00:00   \n3  e4a76fac1f411ffa682978665d5900cc  8842611 2022-10-21 22:00:00   \n4  43163fcefc210cff0f6184a81031144d  8842612 2022-10-21 22:00:00   \n5  af8877ca9002794a4c020d711bd7513a  8842613 2022-10-21 22:00:00   \n6  11c4a08ea5f4250c4d8fb13bb062c1e6  8842614 2022-10-21 22:00:00   \n7  8195ded5e3e100ccb1175c83b2096deb  8842615 2022-10-21 22:00:00   \n8  b7d8a1204d4356ef18baf2b1b529b047  8842616 2022-10-21 22:00:00   \n9  9b6f7a1dda1595207c8fa222a66046fd  8842617 2022-10-21 22:00:00   \n\n       location_name  \n0             Berlin  \n1  Frankfurt am Main  \n2             Berlin  \n3  Bergisch Gladbach  \n4            Hamburg  \n5         Heidelberg  \n6         Heidelberg  \n7         Heidelberg  \n8         Heidelberg  \n9           Duisburg  ",
      "text/html": "<div>\n<style scoped>\n    .dataframe tbody tr th:only-of-type {\n        vertical-align: middle;\n    }\n\n    .dataframe tbody tr th {\n        vertical-align: top;\n    }\n\n    .dataframe thead th {\n        text-align: right;\n    }\n</style>\n<table border=\"1\" class=\"dataframe\">\n  <thead>\n    <tr style=\"text-align: right;\">\n      <th></th>\n      <th>job_key</th>\n      <th>job_id</th>\n      <th>job_ldts</th>\n      <th>location_name</th>\n    </tr>\n  </thead>\n  <tbody>\n    <tr>\n      <th>0</th>\n      <td>08f7f919d94e7950f0a1eeea8d85f9f4</td>\n      <td>8842608</td>\n      <td>2022-10-21 22:00:00</td>\n      <td>Berlin</td>\n    </tr>\n    <tr>\n      <th>1</th>\n      <td>156fa6e60d690fd704047d8eef39032f</td>\n      <td>8842609</td>\n      <td>2022-10-21 22:00:00</td>\n      <td>Frankfurt am Main</td>\n    </tr>\n    <tr>\n      <th>2</th>\n      <td>c16c2107ebb5ddca11cbf1651f36adec</td>\n      <td>8842610</td>\n      <td>2022-10-21 22:00:00</td>\n      <td>Berlin</td>\n    </tr>\n    <tr>\n      <th>3</th>\n      <td>e4a76fac1f411ffa682978665d5900cc</td>\n      <td>8842611</td>\n      <td>2022-10-21 22:00:00</td>\n      <td>Bergisch Gladbach</td>\n    </tr>\n    <tr>\n      <th>4</th>\n      <td>43163fcefc210cff0f6184a81031144d</td>\n      <td>8842612</td>\n      <td>2022-10-21 22:00:00</td>\n      <td>Hamburg</td>\n    </tr>\n    <tr>\n      <th>5</th>\n      <td>af8877ca9002794a4c020d711bd7513a</td>\n      <td>8842613</td>\n      <td>2022-10-21 22:00:00</td>\n      <td>Heidelberg</td>\n    </tr>\n    <tr>\n      <th>6</th>\n      <td>11c4a08ea5f4250c4d8fb13bb062c1e6</td>\n      <td>8842614</td>\n      <td>2022-10-21 22:00:00</td>\n      <td>Heidelberg</td>\n    </tr>\n    <tr>\n      <th>7</th>\n      <td>8195ded5e3e100ccb1175c83b2096deb</td>\n      <td>8842615</td>\n      <td>2022-10-21 22:00:00</td>\n      <td>Heidelberg</td>\n    </tr>\n    <tr>\n      <th>8</th>\n      <td>b7d8a1204d4356ef18baf2b1b529b047</td>\n      <td>8842616</td>\n      <td>2022-10-21 22:00:00</td>\n      <td>Heidelberg</td>\n    </tr>\n    <tr>\n      <th>9</th>\n      <td>9b6f7a1dda1595207c8fa222a66046fd</td>\n      <td>8842617</td>\n      <td>2022-10-21 22:00:00</td>\n      <td>Duisburg</td>\n    </tr>\n  </tbody>\n</table>\n</div>"
     },
     "execution_count": 3,
     "metadata": {},
     "output_type": "execute_result"
    }
   ],
   "source": [
    "display_sql(f'''\n",
    "SELECT *\n",
    "  FROM dim_job_location\n",
    " ORDER BY job_ldts DESC\n",
    " LIMIT 10\n",
    "''')\n"
   ],
   "metadata": {
    "collapsed": false,
    "pycharm": {
     "name": "#%%\n"
    }
   }
  },
  {
   "cell_type": "code",
   "execution_count": 4,
   "outputs": [
    {
     "data": {
      "text/plain": "                                        location_name  total\n0                                         Home-Office   4490\n1                                          Homeoffice   2463\n2                                              Remote   1207\n3                                         Home Office   1207\n4                                              remote    750\n5                            bundesweit (Home-Office)    183\n6                                  Homeoffice möglich    117\n7                                      Work from home     96\n8                                          HomeOffice     86\n9                                 remote (bundesweit)     74\n10                                      remote Berlin     65\n11                      deutschlandweit (Home-Office)     59\n12                      Home-Office (deutschlandweit)     49\n13                          bundesweit im Home-Office     48\n14  Bad Homburg v. d. Höhe (mit Home Office Möglic...     48\n15                         remote in ganz Deutschland     47\n16                  deutschlandweit (anteilig remote)     44\n17                 Düsseldorf & teilweise Home Office     40\n18                                  Remote (flexibel)     36\n19                                   teilweise Remote     32\n20                           bundesweit (Home Office)     32\n21                       deutschlandweit (Homeoffice)     32\n22                                     Remote möglich     31\n23                                      im Homeoffice     31\n24                         Homeoffice deutschlandweit     27\n25                                        Remote Work     26\n26                                Home-Office möglich     26\n27                           Home-Office (bundesweit)     23\n28                        deutschlandweit Home-Office     23\n29                                        Home office     22\n30                                     Remote Working     22\n31                            bundesweit (Homeoffice)     21\n32                              Home Office or Berlin     21\n33                                bundesweit (Remote)     17\n34                                       Home- Office     17\n35  32825 Blomberg mit umfangreichen Homeoffice Mö...     17\n36                          remote (mobiles Arbeiten)     16\n37                                     im Home-Office     16\n38                           Home Office (bundesweit)     16\n39                             deutschlandweit remote     15\n40                                        home office     15\n41                      deutschlandweit (Home Office)     15\n42                           Bundesweit im Homeoffice     14\n43                   Homeoffice mit Reisebereitschaft     14\n44                           bundesweit im Homeoffice     14\n45                                Home Office möglich     14\n46                                         homeoffice     13\n47                                         Home based     13\n48                                  remote bundesweit     13\n49                                   München + remote     13\n50                                      Köln (remote)     12\n51                                bundesweit (remote)     11\n52                                        Remote-Work     11\n53                              teilweise Home Office     11\n54                              Homeoffice bundesweit     11\n55                             bundesweit Home-Office     11\n56  Bad Homburg v. d. Höhe bei Frankfurt (mit Home...     10\n57                               Berlin (Home-Office)      9\n58                                    München +remote      9\n59                        Home-Office deutschlandweit      9\n60                       Homeoffice (deutschlandweit)      8\n61                                        100% Remote      8\n62                              München (Home-Office)      8\n63                             Home-Office (flexibel)      8\n64                              Leipzig (Home Office)      8\n65                             remote deutschlandweit      8\n66  in Bad Homburg v. d. Höhe (mit Home Office Mög...      8\n67                             Home-Office bundesweit      7\n68                     deutschlandweit im Home Office      7\n69                              bundesweit Homeoffice      6\n70                        Süddeutschland (Homeoffice)      6\n71                                 Remote Deutschland      6\n72                                         Home-based      6\n73                      deutschlandweit im Homeoffice      6\n74                                Remote (Deutschland      6\n75                                     remote möglich      6\n76                              Remote in Deutschland      6\n77                                    Berlin (remote)      6\n78                                     Remote Germany      6\n79                               remote (Home-Office)      6\n80                                     im Home Office      6\n81                                   Cologne (remote)      5\n82                                        oder remote      5\n83                           deutschlandweit (remote)      5\n84                           Österreich (Home Office)      5\n85                 Düsseldorf & teilweise Home-Office      5\n86                          bundesweit im Home Office      5\n87                                     und Homeoffice      5\n88                           Österreich (Home-Office)      5\n89                                        Home-office      5\n90                                 Home-Office Option      5\n91                                         home-based      5\n92                          Deutschland (Home-Office)      5\n93                  Nordrhein-Westfalen (Home-Office)      5\n94        Bad Homburg (mit Home Office Möglichkeiten)      4\n95                                         Home Based      4\n96                             Home Office bundesweit      4\n97                                Bundesweit (remote)      4\n98                Wahlweise Deutschland (Home Office)      4\n99                              Schweiz (Home-Office)      4",
      "text/html": "<div>\n<style scoped>\n    .dataframe tbody tr th:only-of-type {\n        vertical-align: middle;\n    }\n\n    .dataframe tbody tr th {\n        vertical-align: top;\n    }\n\n    .dataframe thead th {\n        text-align: right;\n    }\n</style>\n<table border=\"1\" class=\"dataframe\">\n  <thead>\n    <tr style=\"text-align: right;\">\n      <th></th>\n      <th>location_name</th>\n      <th>total</th>\n    </tr>\n  </thead>\n  <tbody>\n    <tr>\n      <th>0</th>\n      <td>Home-Office</td>\n      <td>4490</td>\n    </tr>\n    <tr>\n      <th>1</th>\n      <td>Homeoffice</td>\n      <td>2463</td>\n    </tr>\n    <tr>\n      <th>2</th>\n      <td>Remote</td>\n      <td>1207</td>\n    </tr>\n    <tr>\n      <th>3</th>\n      <td>Home Office</td>\n      <td>1207</td>\n    </tr>\n    <tr>\n      <th>4</th>\n      <td>remote</td>\n      <td>750</td>\n    </tr>\n    <tr>\n      <th>5</th>\n      <td>bundesweit (Home-Office)</td>\n      <td>183</td>\n    </tr>\n    <tr>\n      <th>6</th>\n      <td>Homeoffice möglich</td>\n      <td>117</td>\n    </tr>\n    <tr>\n      <th>7</th>\n      <td>Work from home</td>\n      <td>96</td>\n    </tr>\n    <tr>\n      <th>8</th>\n      <td>HomeOffice</td>\n      <td>86</td>\n    </tr>\n    <tr>\n      <th>9</th>\n      <td>remote (bundesweit)</td>\n      <td>74</td>\n    </tr>\n    <tr>\n      <th>10</th>\n      <td>remote Berlin</td>\n      <td>65</td>\n    </tr>\n    <tr>\n      <th>11</th>\n      <td>deutschlandweit (Home-Office)</td>\n      <td>59</td>\n    </tr>\n    <tr>\n      <th>12</th>\n      <td>Home-Office (deutschlandweit)</td>\n      <td>49</td>\n    </tr>\n    <tr>\n      <th>13</th>\n      <td>bundesweit im Home-Office</td>\n      <td>48</td>\n    </tr>\n    <tr>\n      <th>14</th>\n      <td>Bad Homburg v. d. Höhe (mit Home Office Möglic...</td>\n      <td>48</td>\n    </tr>\n    <tr>\n      <th>15</th>\n      <td>remote in ganz Deutschland</td>\n      <td>47</td>\n    </tr>\n    <tr>\n      <th>16</th>\n      <td>deutschlandweit (anteilig remote)</td>\n      <td>44</td>\n    </tr>\n    <tr>\n      <th>17</th>\n      <td>Düsseldorf &amp; teilweise Home Office</td>\n      <td>40</td>\n    </tr>\n    <tr>\n      <th>18</th>\n      <td>Remote (flexibel)</td>\n      <td>36</td>\n    </tr>\n    <tr>\n      <th>19</th>\n      <td>teilweise Remote</td>\n      <td>32</td>\n    </tr>\n    <tr>\n      <th>20</th>\n      <td>bundesweit (Home Office)</td>\n      <td>32</td>\n    </tr>\n    <tr>\n      <th>21</th>\n      <td>deutschlandweit (Homeoffice)</td>\n      <td>32</td>\n    </tr>\n    <tr>\n      <th>22</th>\n      <td>Remote möglich</td>\n      <td>31</td>\n    </tr>\n    <tr>\n      <th>23</th>\n      <td>im Homeoffice</td>\n      <td>31</td>\n    </tr>\n    <tr>\n      <th>24</th>\n      <td>Homeoffice deutschlandweit</td>\n      <td>27</td>\n    </tr>\n    <tr>\n      <th>25</th>\n      <td>Remote Work</td>\n      <td>26</td>\n    </tr>\n    <tr>\n      <th>26</th>\n      <td>Home-Office möglich</td>\n      <td>26</td>\n    </tr>\n    <tr>\n      <th>27</th>\n      <td>Home-Office (bundesweit)</td>\n      <td>23</td>\n    </tr>\n    <tr>\n      <th>28</th>\n      <td>deutschlandweit Home-Office</td>\n      <td>23</td>\n    </tr>\n    <tr>\n      <th>29</th>\n      <td>Home office</td>\n      <td>22</td>\n    </tr>\n    <tr>\n      <th>30</th>\n      <td>Remote Working</td>\n      <td>22</td>\n    </tr>\n    <tr>\n      <th>31</th>\n      <td>bundesweit (Homeoffice)</td>\n      <td>21</td>\n    </tr>\n    <tr>\n      <th>32</th>\n      <td>Home Office or Berlin</td>\n      <td>21</td>\n    </tr>\n    <tr>\n      <th>33</th>\n      <td>bundesweit (Remote)</td>\n      <td>17</td>\n    </tr>\n    <tr>\n      <th>34</th>\n      <td>Home- Office</td>\n      <td>17</td>\n    </tr>\n    <tr>\n      <th>35</th>\n      <td>32825 Blomberg mit umfangreichen Homeoffice Mö...</td>\n      <td>17</td>\n    </tr>\n    <tr>\n      <th>36</th>\n      <td>remote (mobiles Arbeiten)</td>\n      <td>16</td>\n    </tr>\n    <tr>\n      <th>37</th>\n      <td>im Home-Office</td>\n      <td>16</td>\n    </tr>\n    <tr>\n      <th>38</th>\n      <td>Home Office (bundesweit)</td>\n      <td>16</td>\n    </tr>\n    <tr>\n      <th>39</th>\n      <td>deutschlandweit remote</td>\n      <td>15</td>\n    </tr>\n    <tr>\n      <th>40</th>\n      <td>home office</td>\n      <td>15</td>\n    </tr>\n    <tr>\n      <th>41</th>\n      <td>deutschlandweit (Home Office)</td>\n      <td>15</td>\n    </tr>\n    <tr>\n      <th>42</th>\n      <td>Bundesweit im Homeoffice</td>\n      <td>14</td>\n    </tr>\n    <tr>\n      <th>43</th>\n      <td>Homeoffice mit Reisebereitschaft</td>\n      <td>14</td>\n    </tr>\n    <tr>\n      <th>44</th>\n      <td>bundesweit im Homeoffice</td>\n      <td>14</td>\n    </tr>\n    <tr>\n      <th>45</th>\n      <td>Home Office möglich</td>\n      <td>14</td>\n    </tr>\n    <tr>\n      <th>46</th>\n      <td>homeoffice</td>\n      <td>13</td>\n    </tr>\n    <tr>\n      <th>47</th>\n      <td>Home based</td>\n      <td>13</td>\n    </tr>\n    <tr>\n      <th>48</th>\n      <td>remote bundesweit</td>\n      <td>13</td>\n    </tr>\n    <tr>\n      <th>49</th>\n      <td>München + remote</td>\n      <td>13</td>\n    </tr>\n    <tr>\n      <th>50</th>\n      <td>Köln (remote)</td>\n      <td>12</td>\n    </tr>\n    <tr>\n      <th>51</th>\n      <td>bundesweit (remote)</td>\n      <td>11</td>\n    </tr>\n    <tr>\n      <th>52</th>\n      <td>Remote-Work</td>\n      <td>11</td>\n    </tr>\n    <tr>\n      <th>53</th>\n      <td>teilweise Home Office</td>\n      <td>11</td>\n    </tr>\n    <tr>\n      <th>54</th>\n      <td>Homeoffice bundesweit</td>\n      <td>11</td>\n    </tr>\n    <tr>\n      <th>55</th>\n      <td>bundesweit Home-Office</td>\n      <td>11</td>\n    </tr>\n    <tr>\n      <th>56</th>\n      <td>Bad Homburg v. d. Höhe bei Frankfurt (mit Home...</td>\n      <td>10</td>\n    </tr>\n    <tr>\n      <th>57</th>\n      <td>Berlin (Home-Office)</td>\n      <td>9</td>\n    </tr>\n    <tr>\n      <th>58</th>\n      <td>München +remote</td>\n      <td>9</td>\n    </tr>\n    <tr>\n      <th>59</th>\n      <td>Home-Office deutschlandweit</td>\n      <td>9</td>\n    </tr>\n    <tr>\n      <th>60</th>\n      <td>Homeoffice (deutschlandweit)</td>\n      <td>8</td>\n    </tr>\n    <tr>\n      <th>61</th>\n      <td>100% Remote</td>\n      <td>8</td>\n    </tr>\n    <tr>\n      <th>62</th>\n      <td>München (Home-Office)</td>\n      <td>8</td>\n    </tr>\n    <tr>\n      <th>63</th>\n      <td>Home-Office (flexibel)</td>\n      <td>8</td>\n    </tr>\n    <tr>\n      <th>64</th>\n      <td>Leipzig (Home Office)</td>\n      <td>8</td>\n    </tr>\n    <tr>\n      <th>65</th>\n      <td>remote deutschlandweit</td>\n      <td>8</td>\n    </tr>\n    <tr>\n      <th>66</th>\n      <td>in Bad Homburg v. d. Höhe (mit Home Office Mög...</td>\n      <td>8</td>\n    </tr>\n    <tr>\n      <th>67</th>\n      <td>Home-Office bundesweit</td>\n      <td>7</td>\n    </tr>\n    <tr>\n      <th>68</th>\n      <td>deutschlandweit im Home Office</td>\n      <td>7</td>\n    </tr>\n    <tr>\n      <th>69</th>\n      <td>bundesweit Homeoffice</td>\n      <td>6</td>\n    </tr>\n    <tr>\n      <th>70</th>\n      <td>Süddeutschland (Homeoffice)</td>\n      <td>6</td>\n    </tr>\n    <tr>\n      <th>71</th>\n      <td>Remote Deutschland</td>\n      <td>6</td>\n    </tr>\n    <tr>\n      <th>72</th>\n      <td>Home-based</td>\n      <td>6</td>\n    </tr>\n    <tr>\n      <th>73</th>\n      <td>deutschlandweit im Homeoffice</td>\n      <td>6</td>\n    </tr>\n    <tr>\n      <th>74</th>\n      <td>Remote (Deutschland</td>\n      <td>6</td>\n    </tr>\n    <tr>\n      <th>75</th>\n      <td>remote möglich</td>\n      <td>6</td>\n    </tr>\n    <tr>\n      <th>76</th>\n      <td>Remote in Deutschland</td>\n      <td>6</td>\n    </tr>\n    <tr>\n      <th>77</th>\n      <td>Berlin (remote)</td>\n      <td>6</td>\n    </tr>\n    <tr>\n      <th>78</th>\n      <td>Remote Germany</td>\n      <td>6</td>\n    </tr>\n    <tr>\n      <th>79</th>\n      <td>remote (Home-Office)</td>\n      <td>6</td>\n    </tr>\n    <tr>\n      <th>80</th>\n      <td>im Home Office</td>\n      <td>6</td>\n    </tr>\n    <tr>\n      <th>81</th>\n      <td>Cologne (remote)</td>\n      <td>5</td>\n    </tr>\n    <tr>\n      <th>82</th>\n      <td>oder remote</td>\n      <td>5</td>\n    </tr>\n    <tr>\n      <th>83</th>\n      <td>deutschlandweit (remote)</td>\n      <td>5</td>\n    </tr>\n    <tr>\n      <th>84</th>\n      <td>Österreich (Home Office)</td>\n      <td>5</td>\n    </tr>\n    <tr>\n      <th>85</th>\n      <td>Düsseldorf &amp; teilweise Home-Office</td>\n      <td>5</td>\n    </tr>\n    <tr>\n      <th>86</th>\n      <td>bundesweit im Home Office</td>\n      <td>5</td>\n    </tr>\n    <tr>\n      <th>87</th>\n      <td>und Homeoffice</td>\n      <td>5</td>\n    </tr>\n    <tr>\n      <th>88</th>\n      <td>Österreich (Home-Office)</td>\n      <td>5</td>\n    </tr>\n    <tr>\n      <th>89</th>\n      <td>Home-office</td>\n      <td>5</td>\n    </tr>\n    <tr>\n      <th>90</th>\n      <td>Home-Office Option</td>\n      <td>5</td>\n    </tr>\n    <tr>\n      <th>91</th>\n      <td>home-based</td>\n      <td>5</td>\n    </tr>\n    <tr>\n      <th>92</th>\n      <td>Deutschland (Home-Office)</td>\n      <td>5</td>\n    </tr>\n    <tr>\n      <th>93</th>\n      <td>Nordrhein-Westfalen (Home-Office)</td>\n      <td>5</td>\n    </tr>\n    <tr>\n      <th>94</th>\n      <td>Bad Homburg (mit Home Office Möglichkeiten)</td>\n      <td>4</td>\n    </tr>\n    <tr>\n      <th>95</th>\n      <td>Home Based</td>\n      <td>4</td>\n    </tr>\n    <tr>\n      <th>96</th>\n      <td>Home Office bundesweit</td>\n      <td>4</td>\n    </tr>\n    <tr>\n      <th>97</th>\n      <td>Bundesweit (remote)</td>\n      <td>4</td>\n    </tr>\n    <tr>\n      <th>98</th>\n      <td>Wahlweise Deutschland (Home Office)</td>\n      <td>4</td>\n    </tr>\n    <tr>\n      <th>99</th>\n      <td>Schweiz (Home-Office)</td>\n      <td>4</td>\n    </tr>\n  </tbody>\n</table>\n</div>"
     },
     "metadata": {},
     "output_type": "display_data"
    }
   ],
   "source": [
    "display_df(display_sql(f'''\n",
    "SELECT location_name,\n",
    "       COUNT(job_id) AS total\n",
    " FROM dim_job_location\n",
    "WHERE location_name ILIKE '%remote%' OR\n",
    "      location_name ILIKE '%home%'\n",
    "GROUP BY 1\n",
    "ORDER BY 2 DESC\n",
    "LIMIT 100\n",
    "'''))"
   ],
   "metadata": {
    "collapsed": false,
    "pycharm": {
     "name": "#%%\n"
    }
   }
  }
 ],
 "metadata": {
  "kernelspec": {
   "display_name": "Python 3 (ipykernel)",
   "language": "python",
   "name": "python3"
  },
  "language_info": {
   "codemirror_mode": {
    "name": "ipython",
    "version": 3
   },
   "file_extension": ".py",
   "mimetype": "text/x-python",
   "name": "python",
   "nbconvert_exporter": "python",
   "pygments_lexer": "ipython3",
   "version": "3.10.6"
  }
 },
 "nbformat": 4,
 "nbformat_minor": 1
}