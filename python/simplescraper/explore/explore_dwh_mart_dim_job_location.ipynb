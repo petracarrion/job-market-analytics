{
 "cells": [
  {
   "cell_type": "code",
   "execution_count": 1,
   "metadata": {
    "pycharm": {
     "name": "#%%\n"
    }
   },
   "outputs": [],
   "source": [
    "from common.explore import display_df, display_sql"
   ]
  },
  {
   "cell_type": "code",
   "execution_count": 2,
   "outputs": [
    {
     "data": {
      "text/plain": "    job_id      load_timestamp         location day month  year\n0  8773209 2022-10-02 21:00:00       Wangerooge   2    10  2022\n1  8773210 2022-10-02 21:00:00          Hamburg   2    10  2022\n2  8773211 2022-10-02 21:00:00          Hamburg   2    10  2022\n3  8773212 2022-10-02 21:00:00           Oppurg   2    10  2022\n4  8773213 2022-10-02 21:00:00           Oppurg   2    10  2022\n5  8773214 2022-10-02 21:00:00     Unterföhring   2    10  2022\n6  8773215 2022-10-02 21:00:00         Mettmann   2    10  2022\n7  8773216 2022-10-02 21:00:00     Wyk auf Föhr   2    10  2022\n8  8773217 2022-10-02 21:00:00      Taunusstein   2    10  2022\n9  8773218 2022-10-02 21:00:00  Bad Reichenhall   2    10  2022",
      "text/html": "<div>\n<style scoped>\n    .dataframe tbody tr th:only-of-type {\n        vertical-align: middle;\n    }\n\n    .dataframe tbody tr th {\n        vertical-align: top;\n    }\n\n    .dataframe thead th {\n        text-align: right;\n    }\n</style>\n<table border=\"1\" class=\"dataframe\">\n  <thead>\n    <tr style=\"text-align: right;\">\n      <th></th>\n      <th>job_id</th>\n      <th>load_timestamp</th>\n      <th>location</th>\n      <th>day</th>\n      <th>month</th>\n      <th>year</th>\n    </tr>\n  </thead>\n  <tbody>\n    <tr>\n      <th>0</th>\n      <td>8773209</td>\n      <td>2022-10-02 21:00:00</td>\n      <td>Wangerooge</td>\n      <td>2</td>\n      <td>10</td>\n      <td>2022</td>\n    </tr>\n    <tr>\n      <th>1</th>\n      <td>8773210</td>\n      <td>2022-10-02 21:00:00</td>\n      <td>Hamburg</td>\n      <td>2</td>\n      <td>10</td>\n      <td>2022</td>\n    </tr>\n    <tr>\n      <th>2</th>\n      <td>8773211</td>\n      <td>2022-10-02 21:00:00</td>\n      <td>Hamburg</td>\n      <td>2</td>\n      <td>10</td>\n      <td>2022</td>\n    </tr>\n    <tr>\n      <th>3</th>\n      <td>8773212</td>\n      <td>2022-10-02 21:00:00</td>\n      <td>Oppurg</td>\n      <td>2</td>\n      <td>10</td>\n      <td>2022</td>\n    </tr>\n    <tr>\n      <th>4</th>\n      <td>8773213</td>\n      <td>2022-10-02 21:00:00</td>\n      <td>Oppurg</td>\n      <td>2</td>\n      <td>10</td>\n      <td>2022</td>\n    </tr>\n    <tr>\n      <th>5</th>\n      <td>8773214</td>\n      <td>2022-10-02 21:00:00</td>\n      <td>Unterföhring</td>\n      <td>2</td>\n      <td>10</td>\n      <td>2022</td>\n    </tr>\n    <tr>\n      <th>6</th>\n      <td>8773215</td>\n      <td>2022-10-02 21:00:00</td>\n      <td>Mettmann</td>\n      <td>2</td>\n      <td>10</td>\n      <td>2022</td>\n    </tr>\n    <tr>\n      <th>7</th>\n      <td>8773216</td>\n      <td>2022-10-02 21:00:00</td>\n      <td>Wyk auf Föhr</td>\n      <td>2</td>\n      <td>10</td>\n      <td>2022</td>\n    </tr>\n    <tr>\n      <th>8</th>\n      <td>8773217</td>\n      <td>2022-10-02 21:00:00</td>\n      <td>Taunusstein</td>\n      <td>2</td>\n      <td>10</td>\n      <td>2022</td>\n    </tr>\n    <tr>\n      <th>9</th>\n      <td>8773218</td>\n      <td>2022-10-02 21:00:00</td>\n      <td>Bad Reichenhall</td>\n      <td>2</td>\n      <td>10</td>\n      <td>2022</td>\n    </tr>\n  </tbody>\n</table>\n</div>"
     },
     "execution_count": 2,
     "metadata": {},
     "output_type": "execute_result"
    }
   ],
   "source": [
    "display_sql(f'''\n",
    "SELECT *\n",
    "  FROM curated.job_location\n",
    " ORDER BY load_timestamp DESC\n",
    " LIMIT 10\n",
    "''')\n"
   ],
   "metadata": {
    "collapsed": false,
    "pycharm": {
     "name": "#%%\n"
    }
   }
  },
  {
   "cell_type": "code",
   "execution_count": 3,
   "outputs": [
    {
     "data": {
      "text/plain": "                            job_key   job_id            job_ldts  \\\n0  2284064cc9722eedee78de0c83aaab97  8773209 2022-10-02 21:00:00   \n1  daac9fccfeafb13d2dfa142851a85407  8773210 2022-10-02 21:00:00   \n2  0d7360738d7b1591354958577eff3c12  8773211 2022-10-02 21:00:00   \n3  bd861b60fa66c019a79c989e34567d0f  8773212 2022-10-02 21:00:00   \n4  40cd7a2bebdcc033d1e36525f88769ca  8773213 2022-10-02 21:00:00   \n5  208e478152134a4578a416db5db25315  8773214 2022-10-02 21:00:00   \n6  b22e754e0b9e40019c5d37a5f763920f  8773215 2022-10-02 21:00:00   \n7  c5e88d3478f4eb46910aec45bcba2973  8773216 2022-10-02 21:00:00   \n8  1afb1a14faaa7e972d2733e83417e33f  8773217 2022-10-02 21:00:00   \n9  842e99e8a93d288b19e0651814fdc607  8773218 2022-10-02 21:00:00   \n\n     location_name  \n0       Wangerooge  \n1          Hamburg  \n2          Hamburg  \n3           Oppurg  \n4           Oppurg  \n5     Unterföhring  \n6         Mettmann  \n7     Wyk auf Föhr  \n8      Taunusstein  \n9  Bad Reichenhall  ",
      "text/html": "<div>\n<style scoped>\n    .dataframe tbody tr th:only-of-type {\n        vertical-align: middle;\n    }\n\n    .dataframe tbody tr th {\n        vertical-align: top;\n    }\n\n    .dataframe thead th {\n        text-align: right;\n    }\n</style>\n<table border=\"1\" class=\"dataframe\">\n  <thead>\n    <tr style=\"text-align: right;\">\n      <th></th>\n      <th>job_key</th>\n      <th>job_id</th>\n      <th>job_ldts</th>\n      <th>location_name</th>\n    </tr>\n  </thead>\n  <tbody>\n    <tr>\n      <th>0</th>\n      <td>2284064cc9722eedee78de0c83aaab97</td>\n      <td>8773209</td>\n      <td>2022-10-02 21:00:00</td>\n      <td>Wangerooge</td>\n    </tr>\n    <tr>\n      <th>1</th>\n      <td>daac9fccfeafb13d2dfa142851a85407</td>\n      <td>8773210</td>\n      <td>2022-10-02 21:00:00</td>\n      <td>Hamburg</td>\n    </tr>\n    <tr>\n      <th>2</th>\n      <td>0d7360738d7b1591354958577eff3c12</td>\n      <td>8773211</td>\n      <td>2022-10-02 21:00:00</td>\n      <td>Hamburg</td>\n    </tr>\n    <tr>\n      <th>3</th>\n      <td>bd861b60fa66c019a79c989e34567d0f</td>\n      <td>8773212</td>\n      <td>2022-10-02 21:00:00</td>\n      <td>Oppurg</td>\n    </tr>\n    <tr>\n      <th>4</th>\n      <td>40cd7a2bebdcc033d1e36525f88769ca</td>\n      <td>8773213</td>\n      <td>2022-10-02 21:00:00</td>\n      <td>Oppurg</td>\n    </tr>\n    <tr>\n      <th>5</th>\n      <td>208e478152134a4578a416db5db25315</td>\n      <td>8773214</td>\n      <td>2022-10-02 21:00:00</td>\n      <td>Unterföhring</td>\n    </tr>\n    <tr>\n      <th>6</th>\n      <td>b22e754e0b9e40019c5d37a5f763920f</td>\n      <td>8773215</td>\n      <td>2022-10-02 21:00:00</td>\n      <td>Mettmann</td>\n    </tr>\n    <tr>\n      <th>7</th>\n      <td>c5e88d3478f4eb46910aec45bcba2973</td>\n      <td>8773216</td>\n      <td>2022-10-02 21:00:00</td>\n      <td>Wyk auf Föhr</td>\n    </tr>\n    <tr>\n      <th>8</th>\n      <td>1afb1a14faaa7e972d2733e83417e33f</td>\n      <td>8773217</td>\n      <td>2022-10-02 21:00:00</td>\n      <td>Taunusstein</td>\n    </tr>\n    <tr>\n      <th>9</th>\n      <td>842e99e8a93d288b19e0651814fdc607</td>\n      <td>8773218</td>\n      <td>2022-10-02 21:00:00</td>\n      <td>Bad Reichenhall</td>\n    </tr>\n  </tbody>\n</table>\n</div>"
     },
     "execution_count": 3,
     "metadata": {},
     "output_type": "execute_result"
    }
   ],
   "source": [
    "display_sql(f'''\n",
    "SELECT *\n",
    "  FROM dim_job_location\n",
    " ORDER BY job_ldts DESC\n",
    " LIMIT 10\n",
    "''')\n"
   ],
   "metadata": {
    "collapsed": false,
    "pycharm": {
     "name": "#%%\n"
    }
   }
  },
  {
   "cell_type": "code",
   "execution_count": 4,
   "outputs": [
    {
     "data": {
      "text/plain": "                                        location_name  total\n0                                         Home-Office   4307\n1                                          Homeoffice   2281\n2                                         Home Office   1175\n3                                              Remote   1108\n4                                              remote    702\n5                            bundesweit (Home-Office)    170\n6                                  Homeoffice möglich     99\n7                                      Work from home     93\n8                                          HomeOffice     77\n9                                 remote (bundesweit)     70\n10                                      remote Berlin     65\n11                      deutschlandweit (Home-Office)     58\n12                          bundesweit im Home-Office     48\n13  Bad Homburg v. d. Höhe (mit Home Office Möglic...     48\n14                  deutschlandweit (anteilig remote)     41\n15                         remote in ganz Deutschland     41\n16                 Düsseldorf & teilweise Home Office     40\n17                      Home-Office (deutschlandweit)     37\n18                                  Remote (flexibel)     36\n19                       deutschlandweit (Homeoffice)     32\n20                           bundesweit (Home Office)     32\n21                                   teilweise Remote     31\n22                                      im Homeoffice     31\n23                         Homeoffice deutschlandweit     27\n24                                Home-Office möglich     26\n25                                     Remote möglich     26\n26                                        Remote Work     25\n27                        deutschlandweit Home-Office     23\n28                                        Home office     22\n29                                     Remote Working     21\n30                           Home-Office (bundesweit)     21\n31                            bundesweit (Homeoffice)     20\n32  32825 Blomberg mit umfangreichen Homeoffice Mö...     17\n33                                bundesweit (Remote)     17\n34                                     im Home-Office     16\n35                                        home office     15\n36                             deutschlandweit remote     15\n37                                       Home- Office     15\n38                           Home Office (bundesweit)     14\n39                           bundesweit im Homeoffice     14\n40                      deutschlandweit (Home Office)     14\n41                                         homeoffice     13\n42                                Home Office möglich     13\n43                                         Home based     13\n44                           Bundesweit im Homeoffice     13\n45                                   München + remote     13\n46                   Homeoffice mit Reisebereitschaft     12\n47                                  remote bundesweit     12\n48                                        Remote-Work     11\n49                          remote (mobiles Arbeiten)     11\n50                                      Köln (remote)     11\n51                             bundesweit Home-Office     11\n52                              teilweise Home Office     11\n53                              Homeoffice bundesweit     11\n54                                bundesweit (remote)     11\n55  Bad Homburg v. d. Höhe bei Frankfurt (mit Home...     10\n56                                    München +remote      9\n57                               Berlin (Home-Office)      9\n58                        Home-Office deutschlandweit      9\n59                              Leipzig (Home Office)      8\n60                             remote deutschlandweit      8\n61                             Home-Office (flexibel)      8\n62                              München (Home-Office)      8\n63  in Bad Homburg v. d. Höhe (mit Home Office Mög...      8\n64                                        100% Remote      7\n65                             Home-Office bundesweit      7\n66                     deutschlandweit im Home Office      7\n67                                     remote möglich      6\n68                                         Home-based      6\n69                               remote (Home-Office)      6\n70                              Remote in Deutschland      6\n71                                    Berlin (remote)      6\n72                              bundesweit Homeoffice      6\n73                       Homeoffice (deutschlandweit)      6\n74                                     im Home Office      6\n75                                 Remote Deutschland      6\n76                                     Remote Germany      6\n77                                Remote (Deutschland      6\n78                                        Home-office      5\n79                           Österreich (Home-Office)      5\n80                          bundesweit im Home Office      5\n81                 Düsseldorf & teilweise Home-Office      5\n82                                         home-based      5\n83                                        oder remote      5\n84                                   Cologne (remote)      5\n85                                 Home-Office Option      5\n86                        Süddeutschland (Homeoffice)      5\n87                  Nordrhein-Westfalen (Home-Office)      5\n88                           deutschlandweit (remote)      5\n89                          Deutschland (Home-Office)      5\n90                                     und Homeoffice      5\n91                           Österreich (Home Office)      5\n92                                           -Remote-      4\n93                              teilweise Home-Office      4\n94                       Home Office in Niedersachsen      4\n95        Bad Homburg (mit Home Office Möglichkeiten)      4\n96                       Deutschlandweit (Homeoffice)      4\n97                           bundesweit (100% remote)      4\n98                                  bundesweit remote      4\n99                             Bundesweit Home Office      4",
      "text/html": "<div>\n<style scoped>\n    .dataframe tbody tr th:only-of-type {\n        vertical-align: middle;\n    }\n\n    .dataframe tbody tr th {\n        vertical-align: top;\n    }\n\n    .dataframe thead th {\n        text-align: right;\n    }\n</style>\n<table border=\"1\" class=\"dataframe\">\n  <thead>\n    <tr style=\"text-align: right;\">\n      <th></th>\n      <th>location_name</th>\n      <th>total</th>\n    </tr>\n  </thead>\n  <tbody>\n    <tr>\n      <th>0</th>\n      <td>Home-Office</td>\n      <td>4307</td>\n    </tr>\n    <tr>\n      <th>1</th>\n      <td>Homeoffice</td>\n      <td>2281</td>\n    </tr>\n    <tr>\n      <th>2</th>\n      <td>Home Office</td>\n      <td>1175</td>\n    </tr>\n    <tr>\n      <th>3</th>\n      <td>Remote</td>\n      <td>1108</td>\n    </tr>\n    <tr>\n      <th>4</th>\n      <td>remote</td>\n      <td>702</td>\n    </tr>\n    <tr>\n      <th>5</th>\n      <td>bundesweit (Home-Office)</td>\n      <td>170</td>\n    </tr>\n    <tr>\n      <th>6</th>\n      <td>Homeoffice möglich</td>\n      <td>99</td>\n    </tr>\n    <tr>\n      <th>7</th>\n      <td>Work from home</td>\n      <td>93</td>\n    </tr>\n    <tr>\n      <th>8</th>\n      <td>HomeOffice</td>\n      <td>77</td>\n    </tr>\n    <tr>\n      <th>9</th>\n      <td>remote (bundesweit)</td>\n      <td>70</td>\n    </tr>\n    <tr>\n      <th>10</th>\n      <td>remote Berlin</td>\n      <td>65</td>\n    </tr>\n    <tr>\n      <th>11</th>\n      <td>deutschlandweit (Home-Office)</td>\n      <td>58</td>\n    </tr>\n    <tr>\n      <th>12</th>\n      <td>bundesweit im Home-Office</td>\n      <td>48</td>\n    </tr>\n    <tr>\n      <th>13</th>\n      <td>Bad Homburg v. d. Höhe (mit Home Office Möglic...</td>\n      <td>48</td>\n    </tr>\n    <tr>\n      <th>14</th>\n      <td>deutschlandweit (anteilig remote)</td>\n      <td>41</td>\n    </tr>\n    <tr>\n      <th>15</th>\n      <td>remote in ganz Deutschland</td>\n      <td>41</td>\n    </tr>\n    <tr>\n      <th>16</th>\n      <td>Düsseldorf &amp; teilweise Home Office</td>\n      <td>40</td>\n    </tr>\n    <tr>\n      <th>17</th>\n      <td>Home-Office (deutschlandweit)</td>\n      <td>37</td>\n    </tr>\n    <tr>\n      <th>18</th>\n      <td>Remote (flexibel)</td>\n      <td>36</td>\n    </tr>\n    <tr>\n      <th>19</th>\n      <td>deutschlandweit (Homeoffice)</td>\n      <td>32</td>\n    </tr>\n    <tr>\n      <th>20</th>\n      <td>bundesweit (Home Office)</td>\n      <td>32</td>\n    </tr>\n    <tr>\n      <th>21</th>\n      <td>teilweise Remote</td>\n      <td>31</td>\n    </tr>\n    <tr>\n      <th>22</th>\n      <td>im Homeoffice</td>\n      <td>31</td>\n    </tr>\n    <tr>\n      <th>23</th>\n      <td>Homeoffice deutschlandweit</td>\n      <td>27</td>\n    </tr>\n    <tr>\n      <th>24</th>\n      <td>Home-Office möglich</td>\n      <td>26</td>\n    </tr>\n    <tr>\n      <th>25</th>\n      <td>Remote möglich</td>\n      <td>26</td>\n    </tr>\n    <tr>\n      <th>26</th>\n      <td>Remote Work</td>\n      <td>25</td>\n    </tr>\n    <tr>\n      <th>27</th>\n      <td>deutschlandweit Home-Office</td>\n      <td>23</td>\n    </tr>\n    <tr>\n      <th>28</th>\n      <td>Home office</td>\n      <td>22</td>\n    </tr>\n    <tr>\n      <th>29</th>\n      <td>Remote Working</td>\n      <td>21</td>\n    </tr>\n    <tr>\n      <th>30</th>\n      <td>Home-Office (bundesweit)</td>\n      <td>21</td>\n    </tr>\n    <tr>\n      <th>31</th>\n      <td>bundesweit (Homeoffice)</td>\n      <td>20</td>\n    </tr>\n    <tr>\n      <th>32</th>\n      <td>32825 Blomberg mit umfangreichen Homeoffice Mö...</td>\n      <td>17</td>\n    </tr>\n    <tr>\n      <th>33</th>\n      <td>bundesweit (Remote)</td>\n      <td>17</td>\n    </tr>\n    <tr>\n      <th>34</th>\n      <td>im Home-Office</td>\n      <td>16</td>\n    </tr>\n    <tr>\n      <th>35</th>\n      <td>home office</td>\n      <td>15</td>\n    </tr>\n    <tr>\n      <th>36</th>\n      <td>deutschlandweit remote</td>\n      <td>15</td>\n    </tr>\n    <tr>\n      <th>37</th>\n      <td>Home- Office</td>\n      <td>15</td>\n    </tr>\n    <tr>\n      <th>38</th>\n      <td>Home Office (bundesweit)</td>\n      <td>14</td>\n    </tr>\n    <tr>\n      <th>39</th>\n      <td>bundesweit im Homeoffice</td>\n      <td>14</td>\n    </tr>\n    <tr>\n      <th>40</th>\n      <td>deutschlandweit (Home Office)</td>\n      <td>14</td>\n    </tr>\n    <tr>\n      <th>41</th>\n      <td>homeoffice</td>\n      <td>13</td>\n    </tr>\n    <tr>\n      <th>42</th>\n      <td>Home Office möglich</td>\n      <td>13</td>\n    </tr>\n    <tr>\n      <th>43</th>\n      <td>Home based</td>\n      <td>13</td>\n    </tr>\n    <tr>\n      <th>44</th>\n      <td>Bundesweit im Homeoffice</td>\n      <td>13</td>\n    </tr>\n    <tr>\n      <th>45</th>\n      <td>München + remote</td>\n      <td>13</td>\n    </tr>\n    <tr>\n      <th>46</th>\n      <td>Homeoffice mit Reisebereitschaft</td>\n      <td>12</td>\n    </tr>\n    <tr>\n      <th>47</th>\n      <td>remote bundesweit</td>\n      <td>12</td>\n    </tr>\n    <tr>\n      <th>48</th>\n      <td>Remote-Work</td>\n      <td>11</td>\n    </tr>\n    <tr>\n      <th>49</th>\n      <td>remote (mobiles Arbeiten)</td>\n      <td>11</td>\n    </tr>\n    <tr>\n      <th>50</th>\n      <td>Köln (remote)</td>\n      <td>11</td>\n    </tr>\n    <tr>\n      <th>51</th>\n      <td>bundesweit Home-Office</td>\n      <td>11</td>\n    </tr>\n    <tr>\n      <th>52</th>\n      <td>teilweise Home Office</td>\n      <td>11</td>\n    </tr>\n    <tr>\n      <th>53</th>\n      <td>Homeoffice bundesweit</td>\n      <td>11</td>\n    </tr>\n    <tr>\n      <th>54</th>\n      <td>bundesweit (remote)</td>\n      <td>11</td>\n    </tr>\n    <tr>\n      <th>55</th>\n      <td>Bad Homburg v. d. Höhe bei Frankfurt (mit Home...</td>\n      <td>10</td>\n    </tr>\n    <tr>\n      <th>56</th>\n      <td>München +remote</td>\n      <td>9</td>\n    </tr>\n    <tr>\n      <th>57</th>\n      <td>Berlin (Home-Office)</td>\n      <td>9</td>\n    </tr>\n    <tr>\n      <th>58</th>\n      <td>Home-Office deutschlandweit</td>\n      <td>9</td>\n    </tr>\n    <tr>\n      <th>59</th>\n      <td>Leipzig (Home Office)</td>\n      <td>8</td>\n    </tr>\n    <tr>\n      <th>60</th>\n      <td>remote deutschlandweit</td>\n      <td>8</td>\n    </tr>\n    <tr>\n      <th>61</th>\n      <td>Home-Office (flexibel)</td>\n      <td>8</td>\n    </tr>\n    <tr>\n      <th>62</th>\n      <td>München (Home-Office)</td>\n      <td>8</td>\n    </tr>\n    <tr>\n      <th>63</th>\n      <td>in Bad Homburg v. d. Höhe (mit Home Office Mög...</td>\n      <td>8</td>\n    </tr>\n    <tr>\n      <th>64</th>\n      <td>100% Remote</td>\n      <td>7</td>\n    </tr>\n    <tr>\n      <th>65</th>\n      <td>Home-Office bundesweit</td>\n      <td>7</td>\n    </tr>\n    <tr>\n      <th>66</th>\n      <td>deutschlandweit im Home Office</td>\n      <td>7</td>\n    </tr>\n    <tr>\n      <th>67</th>\n      <td>remote möglich</td>\n      <td>6</td>\n    </tr>\n    <tr>\n      <th>68</th>\n      <td>Home-based</td>\n      <td>6</td>\n    </tr>\n    <tr>\n      <th>69</th>\n      <td>remote (Home-Office)</td>\n      <td>6</td>\n    </tr>\n    <tr>\n      <th>70</th>\n      <td>Remote in Deutschland</td>\n      <td>6</td>\n    </tr>\n    <tr>\n      <th>71</th>\n      <td>Berlin (remote)</td>\n      <td>6</td>\n    </tr>\n    <tr>\n      <th>72</th>\n      <td>bundesweit Homeoffice</td>\n      <td>6</td>\n    </tr>\n    <tr>\n      <th>73</th>\n      <td>Homeoffice (deutschlandweit)</td>\n      <td>6</td>\n    </tr>\n    <tr>\n      <th>74</th>\n      <td>im Home Office</td>\n      <td>6</td>\n    </tr>\n    <tr>\n      <th>75</th>\n      <td>Remote Deutschland</td>\n      <td>6</td>\n    </tr>\n    <tr>\n      <th>76</th>\n      <td>Remote Germany</td>\n      <td>6</td>\n    </tr>\n    <tr>\n      <th>77</th>\n      <td>Remote (Deutschland</td>\n      <td>6</td>\n    </tr>\n    <tr>\n      <th>78</th>\n      <td>Home-office</td>\n      <td>5</td>\n    </tr>\n    <tr>\n      <th>79</th>\n      <td>Österreich (Home-Office)</td>\n      <td>5</td>\n    </tr>\n    <tr>\n      <th>80</th>\n      <td>bundesweit im Home Office</td>\n      <td>5</td>\n    </tr>\n    <tr>\n      <th>81</th>\n      <td>Düsseldorf &amp; teilweise Home-Office</td>\n      <td>5</td>\n    </tr>\n    <tr>\n      <th>82</th>\n      <td>home-based</td>\n      <td>5</td>\n    </tr>\n    <tr>\n      <th>83</th>\n      <td>oder remote</td>\n      <td>5</td>\n    </tr>\n    <tr>\n      <th>84</th>\n      <td>Cologne (remote)</td>\n      <td>5</td>\n    </tr>\n    <tr>\n      <th>85</th>\n      <td>Home-Office Option</td>\n      <td>5</td>\n    </tr>\n    <tr>\n      <th>86</th>\n      <td>Süddeutschland (Homeoffice)</td>\n      <td>5</td>\n    </tr>\n    <tr>\n      <th>87</th>\n      <td>Nordrhein-Westfalen (Home-Office)</td>\n      <td>5</td>\n    </tr>\n    <tr>\n      <th>88</th>\n      <td>deutschlandweit (remote)</td>\n      <td>5</td>\n    </tr>\n    <tr>\n      <th>89</th>\n      <td>Deutschland (Home-Office)</td>\n      <td>5</td>\n    </tr>\n    <tr>\n      <th>90</th>\n      <td>und Homeoffice</td>\n      <td>5</td>\n    </tr>\n    <tr>\n      <th>91</th>\n      <td>Österreich (Home Office)</td>\n      <td>5</td>\n    </tr>\n    <tr>\n      <th>92</th>\n      <td>-Remote-</td>\n      <td>4</td>\n    </tr>\n    <tr>\n      <th>93</th>\n      <td>teilweise Home-Office</td>\n      <td>4</td>\n    </tr>\n    <tr>\n      <th>94</th>\n      <td>Home Office in Niedersachsen</td>\n      <td>4</td>\n    </tr>\n    <tr>\n      <th>95</th>\n      <td>Bad Homburg (mit Home Office Möglichkeiten)</td>\n      <td>4</td>\n    </tr>\n    <tr>\n      <th>96</th>\n      <td>Deutschlandweit (Homeoffice)</td>\n      <td>4</td>\n    </tr>\n    <tr>\n      <th>97</th>\n      <td>bundesweit (100% remote)</td>\n      <td>4</td>\n    </tr>\n    <tr>\n      <th>98</th>\n      <td>bundesweit remote</td>\n      <td>4</td>\n    </tr>\n    <tr>\n      <th>99</th>\n      <td>Bundesweit Home Office</td>\n      <td>4</td>\n    </tr>\n  </tbody>\n</table>\n</div>"
     },
     "metadata": {},
     "output_type": "display_data"
    }
   ],
   "source": [
    "display_df(display_sql(f'''\n",
    "SELECT location_name,\n",
    "       COUNT(job_id) AS total\n",
    " FROM dim_job_location\n",
    "WHERE location_name ILIKE '%remote%' OR\n",
    "      location_name ILIKE '%home%'\n",
    "GROUP BY 1\n",
    "ORDER BY 2 DESC\n",
    "LIMIT 100\n",
    "'''))"
   ],
   "metadata": {
    "collapsed": false,
    "pycharm": {
     "name": "#%%\n"
    }
   }
  }
 ],
 "metadata": {
  "kernelspec": {
   "display_name": "Python 3 (ipykernel)",
   "language": "python",
   "name": "python3"
  },
  "language_info": {
   "codemirror_mode": {
    "name": "ipython",
    "version": 3
   },
   "file_extension": ".py",
   "mimetype": "text/x-python",
   "name": "python",
   "nbconvert_exporter": "python",
   "pygments_lexer": "ipython3",
   "version": "3.10.6"
  }
 },
 "nbformat": 4,
 "nbformat_minor": 1
}