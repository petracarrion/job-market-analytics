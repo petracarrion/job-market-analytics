{
 "cells": [
  {
   "cell_type": "code",
   "execution_count": 1,
   "metadata": {
    "pycharm": {
     "name": "#%%\n"
    }
   },
   "outputs": [],
   "source": [
    "import duckdb\n",
    "import pandas as pd\n",
    "import plotly.express as px\n",
    "from plotly_calplot import calplot\n",
    "\n",
    "from common.env_variables import DUCKDB_DWH_FILE\n",
    "\n",
    "\n",
    "def display_df(_df):\n",
    "    with pd.option_context('display.max_rows', None, 'display.max_columns', None, \"expand_frame_repr\", False,\n",
    "                           \"display.float_format\", '${:,.2f}'.format):\n",
    "        display(_df.fillna('.'))\n",
    "\n",
    "\n",
    "def display_sql(sql_statement):\n",
    "    conn = duckdb.connect(DUCKDB_DWH_FILE, read_only=True)\n",
    "    _df = conn.execute(sql_statement).df()\n",
    "    display_df(_df)\n",
    "    conn.close()\n",
    "    return _df\n"
   ]
  },
  {
   "cell_type": "code",
   "execution_count": 2,
   "outputs": [
    {
     "data": {
      "text/plain": "    job_id  total\n0  7543521     12\n1  7369771     10\n2  7723680      9\n3  7599993      8\n4  7571802      8",
      "text/html": "<div>\n<style scoped>\n    .dataframe tbody tr th:only-of-type {\n        vertical-align: middle;\n    }\n\n    .dataframe tbody tr th {\n        vertical-align: top;\n    }\n\n    .dataframe thead th {\n        text-align: right;\n    }\n</style>\n<table border=\"1\" class=\"dataframe\">\n  <thead>\n    <tr style=\"text-align: right;\">\n      <th></th>\n      <th>job_id</th>\n      <th>total</th>\n    </tr>\n  </thead>\n  <tbody>\n    <tr>\n      <th>0</th>\n      <td>7543521</td>\n      <td>12</td>\n    </tr>\n    <tr>\n      <th>1</th>\n      <td>7369771</td>\n      <td>10</td>\n    </tr>\n    <tr>\n      <th>2</th>\n      <td>7723680</td>\n      <td>9</td>\n    </tr>\n    <tr>\n      <th>3</th>\n      <td>7599993</td>\n      <td>8</td>\n    </tr>\n    <tr>\n      <th>4</th>\n      <td>7571802</td>\n      <td>8</td>\n    </tr>\n  </tbody>\n</table>\n</div>"
     },
     "metadata": {},
     "output_type": "display_data"
    }
   ],
   "source": [
    "_ = display_sql(f'''\n",
    "SELECT job_id,\n",
    "       COUNT(1) AS total\n",
    "  FROM curated.job\n",
    " GROUP BY 1\n",
    " ORDER BY 2 DESC\n",
    " LIMIT 5\n",
    "''')"
   ],
   "metadata": {
    "collapsed": false,
    "pycharm": {
     "name": "#%%\n"
    }
   }
  },
  {
   "cell_type": "code",
   "execution_count": 3,
   "metadata": {
    "pycharm": {
     "name": "#%%\n"
    }
   },
   "outputs": [
    {
     "data": {
      "text/plain": "        load_timestamp                                        title           online_date\n0  2022-01-26 16:26:20  Vertriebsmitarbeiter/in Innendienst (m/w/d)  2022-01-02T13:03:06Z\n1  2022-01-20 10:00:00     Innendienst Vertrieb Ausstellung (m/w/d)  2022-01-02T13:03:06Z\n2  2022-01-10 19:00:00  Mitarbeiter/in Vertrieb Ausstellung (m/w/d)  2022-01-02T13:03:06Z\n3  2022-01-08 13:00:00                  Berater Ausstellung (m/w/d)  2022-01-02T13:03:06Z\n4  2021-12-18 14:00:00          Verkaufsberater Ausstellung (m/w/d)  2021-12-18T13:03:05Z\n5  2021-11-20 11:00:00                  Berater Ausstellung (m/w/d)  2021-11-13T17:03:10Z\n6  2021-11-12 16:00:00              Fachberater Ausstellung (m/w/d)  2021-10-29T15:30:01Z\n7  2021-11-10 17:00:00     Fachberater - Glaser / Schreiner (m/w/d)  2021-10-29T15:30:01Z\n8  2021-10-14 21:00:00        Kaufmännische/r Angestellte/r (m/w/d)  2021-10-06T15:03:04Z\n9  2021-10-07 08:00:00        Kaufmännische/r Angestellte/r (m/w/d)  2021-10-06T15:03:04Z\n10 2021-10-06 11:00:00          Kaufmännischer Angestellter (m/w/d)  2021-09-21T14:32:36Z\n11 2021-10-05 08:00:00          Kaufmännischer Angestellter (m/w/d)  2021-09-21T14:32:36Z",
      "text/html": "<div>\n<style scoped>\n    .dataframe tbody tr th:only-of-type {\n        vertical-align: middle;\n    }\n\n    .dataframe tbody tr th {\n        vertical-align: top;\n    }\n\n    .dataframe thead th {\n        text-align: right;\n    }\n</style>\n<table border=\"1\" class=\"dataframe\">\n  <thead>\n    <tr style=\"text-align: right;\">\n      <th></th>\n      <th>load_timestamp</th>\n      <th>title</th>\n      <th>online_date</th>\n    </tr>\n  </thead>\n  <tbody>\n    <tr>\n      <th>0</th>\n      <td>2022-01-26 16:26:20</td>\n      <td>Vertriebsmitarbeiter/in Innendienst (m/w/d)</td>\n      <td>2022-01-02T13:03:06Z</td>\n    </tr>\n    <tr>\n      <th>1</th>\n      <td>2022-01-20 10:00:00</td>\n      <td>Innendienst Vertrieb Ausstellung (m/w/d)</td>\n      <td>2022-01-02T13:03:06Z</td>\n    </tr>\n    <tr>\n      <th>2</th>\n      <td>2022-01-10 19:00:00</td>\n      <td>Mitarbeiter/in Vertrieb Ausstellung (m/w/d)</td>\n      <td>2022-01-02T13:03:06Z</td>\n    </tr>\n    <tr>\n      <th>3</th>\n      <td>2022-01-08 13:00:00</td>\n      <td>Berater Ausstellung (m/w/d)</td>\n      <td>2022-01-02T13:03:06Z</td>\n    </tr>\n    <tr>\n      <th>4</th>\n      <td>2021-12-18 14:00:00</td>\n      <td>Verkaufsberater Ausstellung (m/w/d)</td>\n      <td>2021-12-18T13:03:05Z</td>\n    </tr>\n    <tr>\n      <th>5</th>\n      <td>2021-11-20 11:00:00</td>\n      <td>Berater Ausstellung (m/w/d)</td>\n      <td>2021-11-13T17:03:10Z</td>\n    </tr>\n    <tr>\n      <th>6</th>\n      <td>2021-11-12 16:00:00</td>\n      <td>Fachberater Ausstellung (m/w/d)</td>\n      <td>2021-10-29T15:30:01Z</td>\n    </tr>\n    <tr>\n      <th>7</th>\n      <td>2021-11-10 17:00:00</td>\n      <td>Fachberater - Glaser / Schreiner (m/w/d)</td>\n      <td>2021-10-29T15:30:01Z</td>\n    </tr>\n    <tr>\n      <th>8</th>\n      <td>2021-10-14 21:00:00</td>\n      <td>Kaufmännische/r Angestellte/r (m/w/d)</td>\n      <td>2021-10-06T15:03:04Z</td>\n    </tr>\n    <tr>\n      <th>9</th>\n      <td>2021-10-07 08:00:00</td>\n      <td>Kaufmännische/r Angestellte/r (m/w/d)</td>\n      <td>2021-10-06T15:03:04Z</td>\n    </tr>\n    <tr>\n      <th>10</th>\n      <td>2021-10-06 11:00:00</td>\n      <td>Kaufmännischer Angestellter (m/w/d)</td>\n      <td>2021-09-21T14:32:36Z</td>\n    </tr>\n    <tr>\n      <th>11</th>\n      <td>2021-10-05 08:00:00</td>\n      <td>Kaufmännischer Angestellter (m/w/d)</td>\n      <td>2021-09-21T14:32:36Z</td>\n    </tr>\n  </tbody>\n</table>\n</div>"
     },
     "metadata": {},
     "output_type": "display_data"
    }
   ],
   "source": [
    "_ = display_sql(f'''\n",
    "SELECT load_timestamp,\n",
    "       title,\n",
    "       online_date\n",
    "  FROM curated.job\n",
    " WHERE job_id = 7543521\n",
    " ORDER BY load_timestamp DESC\n",
    " LIMIT 20\n",
    "''')"
   ]
  },
  {
   "cell_type": "code",
   "execution_count": 4,
   "outputs": [
    {
     "data": {
      "text/plain": "    job_id      load_timestamp\n0  7543521 2022-01-26 16:26:20",
      "text/html": "<div>\n<style scoped>\n    .dataframe tbody tr th:only-of-type {\n        vertical-align: middle;\n    }\n\n    .dataframe tbody tr th {\n        vertical-align: top;\n    }\n\n    .dataframe thead th {\n        text-align: right;\n    }\n</style>\n<table border=\"1\" class=\"dataframe\">\n  <thead>\n    <tr style=\"text-align: right;\">\n      <th></th>\n      <th>job_id</th>\n      <th>load_timestamp</th>\n    </tr>\n  </thead>\n  <tbody>\n    <tr>\n      <th>0</th>\n      <td>7543521</td>\n      <td>2022-01-26 16:26:20</td>\n    </tr>\n  </tbody>\n</table>\n</div>"
     },
     "metadata": {},
     "output_type": "display_data"
    }
   ],
   "source": [
    "_ = display_sql(f'''\n",
    "SELECT job_id,\n",
    "       load_timestamp\n",
    "FROM (\n",
    "    SELECT j.*,\n",
    "           row_number()\n",
    "           OVER (\n",
    "            PARTITION BY job_id ORDER BY load_timestamp DESC\n",
    "           ) AS seqnum\n",
    "      FROM curated.job j\n",
    "     WHERE job_id = 7543521\n",
    ") j\n",
    "WHERE seqnum = 1;\n",
    "''')\n"
   ],
   "metadata": {
    "collapsed": false,
    "pycharm": {
     "name": "#%%\n"
    }
   }
  }
 ],
 "metadata": {
  "kernelspec": {
   "display_name": "Python 3 (ipykernel)",
   "language": "python",
   "name": "python3"
  },
  "language_info": {
   "codemirror_mode": {
    "name": "ipython",
    "version": 3
   },
   "file_extension": ".py",
   "mimetype": "text/x-python",
   "name": "python",
   "nbconvert_exporter": "python",
   "pygments_lexer": "ipython3",
   "version": "3.10.6"
  }
 },
 "nbformat": 4,
 "nbformat_minor": 1
}