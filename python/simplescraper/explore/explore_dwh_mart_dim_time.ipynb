{
 "cells": [
  {
   "cell_type": "code",
   "execution_count": 1,
   "metadata": {
    "pycharm": {
     "name": "#%%\n"
    }
   },
   "outputs": [],
   "source": [
    "from common.explore import display_sql"
   ]
  },
  {
   "cell_type": "code",
   "execution_count": 2,
   "outputs": [
    {
     "data": {
      "text/plain": "      date_key  year  month  day month_name  year_week  day_of_week  \\\n0   2021-10-09  2021     10    9    October     202140            6   \n1   2021-10-10  2021     10   10    October     202140            7   \n2   2021-10-11  2021     10   11    October     202141            1   \n3   2021-10-12  2021     10   12    October     202141            2   \n4   2021-10-13  2021     10   13    October     202141            3   \n..         ...   ...    ...  ...        ...        ...          ...   \n353 2022-09-27  2022      9   27  September     202239            2   \n354 2022-09-28  2022      9   28  September     202239            3   \n355 2022-09-29  2022      9   29  September     202239            4   \n356 2022-09-30  2022      9   30  September     202239            5   \n357 2022-10-01  2022     10    1    October     202239            6   \n\n    day_of_week_name  \n0           Saturday  \n1             Sunday  \n2             Monday  \n3            Tuesday  \n4          Wednesday  \n..               ...  \n353          Tuesday  \n354        Wednesday  \n355         Thursday  \n356           Friday  \n357         Saturday  \n\n[358 rows x 8 columns]",
      "text/html": "<div>\n<style scoped>\n    .dataframe tbody tr th:only-of-type {\n        vertical-align: middle;\n    }\n\n    .dataframe tbody tr th {\n        vertical-align: top;\n    }\n\n    .dataframe thead th {\n        text-align: right;\n    }\n</style>\n<table border=\"1\" class=\"dataframe\">\n  <thead>\n    <tr style=\"text-align: right;\">\n      <th></th>\n      <th>date_key</th>\n      <th>year</th>\n      <th>month</th>\n      <th>day</th>\n      <th>month_name</th>\n      <th>year_week</th>\n      <th>day_of_week</th>\n      <th>day_of_week_name</th>\n    </tr>\n  </thead>\n  <tbody>\n    <tr>\n      <th>0</th>\n      <td>2021-10-09</td>\n      <td>2021</td>\n      <td>10</td>\n      <td>9</td>\n      <td>October</td>\n      <td>202140</td>\n      <td>6</td>\n      <td>Saturday</td>\n    </tr>\n    <tr>\n      <th>1</th>\n      <td>2021-10-10</td>\n      <td>2021</td>\n      <td>10</td>\n      <td>10</td>\n      <td>October</td>\n      <td>202140</td>\n      <td>7</td>\n      <td>Sunday</td>\n    </tr>\n    <tr>\n      <th>2</th>\n      <td>2021-10-11</td>\n      <td>2021</td>\n      <td>10</td>\n      <td>11</td>\n      <td>October</td>\n      <td>202141</td>\n      <td>1</td>\n      <td>Monday</td>\n    </tr>\n    <tr>\n      <th>3</th>\n      <td>2021-10-12</td>\n      <td>2021</td>\n      <td>10</td>\n      <td>12</td>\n      <td>October</td>\n      <td>202141</td>\n      <td>2</td>\n      <td>Tuesday</td>\n    </tr>\n    <tr>\n      <th>4</th>\n      <td>2021-10-13</td>\n      <td>2021</td>\n      <td>10</td>\n      <td>13</td>\n      <td>October</td>\n      <td>202141</td>\n      <td>3</td>\n      <td>Wednesday</td>\n    </tr>\n    <tr>\n      <th>...</th>\n      <td>...</td>\n      <td>...</td>\n      <td>...</td>\n      <td>...</td>\n      <td>...</td>\n      <td>...</td>\n      <td>...</td>\n      <td>...</td>\n    </tr>\n    <tr>\n      <th>353</th>\n      <td>2022-09-27</td>\n      <td>2022</td>\n      <td>9</td>\n      <td>27</td>\n      <td>September</td>\n      <td>202239</td>\n      <td>2</td>\n      <td>Tuesday</td>\n    </tr>\n    <tr>\n      <th>354</th>\n      <td>2022-09-28</td>\n      <td>2022</td>\n      <td>9</td>\n      <td>28</td>\n      <td>September</td>\n      <td>202239</td>\n      <td>3</td>\n      <td>Wednesday</td>\n    </tr>\n    <tr>\n      <th>355</th>\n      <td>2022-09-29</td>\n      <td>2022</td>\n      <td>9</td>\n      <td>29</td>\n      <td>September</td>\n      <td>202239</td>\n      <td>4</td>\n      <td>Thursday</td>\n    </tr>\n    <tr>\n      <th>356</th>\n      <td>2022-09-30</td>\n      <td>2022</td>\n      <td>9</td>\n      <td>30</td>\n      <td>September</td>\n      <td>202239</td>\n      <td>5</td>\n      <td>Friday</td>\n    </tr>\n    <tr>\n      <th>357</th>\n      <td>2022-10-01</td>\n      <td>2022</td>\n      <td>10</td>\n      <td>1</td>\n      <td>October</td>\n      <td>202239</td>\n      <td>6</td>\n      <td>Saturday</td>\n    </tr>\n  </tbody>\n</table>\n<p>358 rows × 8 columns</p>\n</div>"
     },
     "execution_count": 2,
     "metadata": {},
     "output_type": "execute_result"
    }
   ],
   "source": [
    "display_sql(f'''\n",
    "WITH unique_online_at AS (\n",
    "    SELECT DISTINCT online_at\n",
    "      FROM curated.online_job\n",
    "     ORDER BY 1\n",
    ")\n",
    "SELECT online_at as date_key,\n",
    "       date_part('year', online_at) as year,\n",
    "       date_part('month', online_at) as month,\n",
    "       date_part('day', online_at) as day,\n",
    "       monthname(online_at) as month_name,\n",
    "       date_part('yearweek', online_at) as year_week,\n",
    "       date_part('isodow', online_at) as day_of_week,\n",
    "       dayname(online_at) as day_of_week_name\n",
    "  FROM unique_online_at\n",
    "''')\n"
   ],
   "metadata": {
    "collapsed": false,
    "pycharm": {
     "name": "#%%\n"
    }
   }
  },
  {
   "cell_type": "code",
   "execution_count": 3,
   "outputs": [
    {
     "data": {
      "text/plain": "      date_key  year  month  day month_name  year_week  day_of_week  \\\n0   2021-10-09  2021     10    9    October     202140            6   \n1   2021-10-10  2021     10   10    October     202140            7   \n2   2021-10-11  2021     10   11    October     202141            1   \n3   2021-10-12  2021     10   12    October     202141            2   \n4   2021-10-13  2021     10   13    October     202141            3   \n..         ...   ...    ...  ...        ...        ...          ...   \n353 2022-09-27  2022      9   27  September     202239            2   \n354 2022-09-28  2022      9   28  September     202239            3   \n355 2022-09-29  2022      9   29  September     202239            4   \n356 2022-09-30  2022      9   30  September     202239            5   \n357 2022-10-01  2022     10    1    October     202239            6   \n\n    day_of_week_name  \n0           Saturday  \n1             Sunday  \n2             Monday  \n3            Tuesday  \n4          Wednesday  \n..               ...  \n353          Tuesday  \n354        Wednesday  \n355         Thursday  \n356           Friday  \n357         Saturday  \n\n[358 rows x 8 columns]",
      "text/html": "<div>\n<style scoped>\n    .dataframe tbody tr th:only-of-type {\n        vertical-align: middle;\n    }\n\n    .dataframe tbody tr th {\n        vertical-align: top;\n    }\n\n    .dataframe thead th {\n        text-align: right;\n    }\n</style>\n<table border=\"1\" class=\"dataframe\">\n  <thead>\n    <tr style=\"text-align: right;\">\n      <th></th>\n      <th>date_key</th>\n      <th>year</th>\n      <th>month</th>\n      <th>day</th>\n      <th>month_name</th>\n      <th>year_week</th>\n      <th>day_of_week</th>\n      <th>day_of_week_name</th>\n    </tr>\n  </thead>\n  <tbody>\n    <tr>\n      <th>0</th>\n      <td>2021-10-09</td>\n      <td>2021</td>\n      <td>10</td>\n      <td>9</td>\n      <td>October</td>\n      <td>202140</td>\n      <td>6</td>\n      <td>Saturday</td>\n    </tr>\n    <tr>\n      <th>1</th>\n      <td>2021-10-10</td>\n      <td>2021</td>\n      <td>10</td>\n      <td>10</td>\n      <td>October</td>\n      <td>202140</td>\n      <td>7</td>\n      <td>Sunday</td>\n    </tr>\n    <tr>\n      <th>2</th>\n      <td>2021-10-11</td>\n      <td>2021</td>\n      <td>10</td>\n      <td>11</td>\n      <td>October</td>\n      <td>202141</td>\n      <td>1</td>\n      <td>Monday</td>\n    </tr>\n    <tr>\n      <th>3</th>\n      <td>2021-10-12</td>\n      <td>2021</td>\n      <td>10</td>\n      <td>12</td>\n      <td>October</td>\n      <td>202141</td>\n      <td>2</td>\n      <td>Tuesday</td>\n    </tr>\n    <tr>\n      <th>4</th>\n      <td>2021-10-13</td>\n      <td>2021</td>\n      <td>10</td>\n      <td>13</td>\n      <td>October</td>\n      <td>202141</td>\n      <td>3</td>\n      <td>Wednesday</td>\n    </tr>\n    <tr>\n      <th>...</th>\n      <td>...</td>\n      <td>...</td>\n      <td>...</td>\n      <td>...</td>\n      <td>...</td>\n      <td>...</td>\n      <td>...</td>\n      <td>...</td>\n    </tr>\n    <tr>\n      <th>353</th>\n      <td>2022-09-27</td>\n      <td>2022</td>\n      <td>9</td>\n      <td>27</td>\n      <td>September</td>\n      <td>202239</td>\n      <td>2</td>\n      <td>Tuesday</td>\n    </tr>\n    <tr>\n      <th>354</th>\n      <td>2022-09-28</td>\n      <td>2022</td>\n      <td>9</td>\n      <td>28</td>\n      <td>September</td>\n      <td>202239</td>\n      <td>3</td>\n      <td>Wednesday</td>\n    </tr>\n    <tr>\n      <th>355</th>\n      <td>2022-09-29</td>\n      <td>2022</td>\n      <td>9</td>\n      <td>29</td>\n      <td>September</td>\n      <td>202239</td>\n      <td>4</td>\n      <td>Thursday</td>\n    </tr>\n    <tr>\n      <th>356</th>\n      <td>2022-09-30</td>\n      <td>2022</td>\n      <td>9</td>\n      <td>30</td>\n      <td>September</td>\n      <td>202239</td>\n      <td>5</td>\n      <td>Friday</td>\n    </tr>\n    <tr>\n      <th>357</th>\n      <td>2022-10-01</td>\n      <td>2022</td>\n      <td>10</td>\n      <td>1</td>\n      <td>October</td>\n      <td>202239</td>\n      <td>6</td>\n      <td>Saturday</td>\n    </tr>\n  </tbody>\n</table>\n<p>358 rows × 8 columns</p>\n</div>"
     },
     "execution_count": 3,
     "metadata": {},
     "output_type": "execute_result"
    }
   ],
   "source": [
    "display_sql(f'''\n",
    "SELECT *\n",
    "  FROM dim_time\n",
    "''')"
   ],
   "metadata": {
    "collapsed": false,
    "pycharm": {
     "name": "#%%\n"
    }
   }
  }
 ],
 "metadata": {
  "kernelspec": {
   "display_name": "Python 3 (ipykernel)",
   "language": "python",
   "name": "python3"
  },
  "language_info": {
   "codemirror_mode": {
    "name": "ipython",
    "version": 3
   },
   "file_extension": ".py",
   "mimetype": "text/x-python",
   "name": "python",
   "nbconvert_exporter": "python",
   "pygments_lexer": "ipython3",
   "version": "3.10.6"
  }
 },
 "nbformat": 4,
 "nbformat_minor": 1
}