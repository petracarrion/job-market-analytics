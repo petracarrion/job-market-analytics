{
 "cells": [
  {
   "cell_type": "code",
   "execution_count": 51,
   "outputs": [],
   "source": [
    "from plotly_calplot import calplot\n",
    "\n",
    "from common.explore import display_sql"
   ],
   "metadata": {
    "collapsed": false,
    "pycharm": {
     "name": "#%%\n"
    }
   }
  },
  {
   "cell_type": "code",
   "execution_count": 52,
   "outputs": [
    {
     "data": {
      "text/plain": "     online_at\n0   2021-10-09\n1   2021-10-10\n2   2021-10-11\n3   2021-10-12\n4   2021-10-13\n..         ...\n370 2022-10-14\n371 2022-10-15\n372 2022-10-16\n373 2022-10-17\n374 2022-10-18\n\n[375 rows x 1 columns]",
      "text/html": "<div>\n<style scoped>\n    .dataframe tbody tr th:only-of-type {\n        vertical-align: middle;\n    }\n\n    .dataframe tbody tr th {\n        vertical-align: top;\n    }\n\n    .dataframe thead th {\n        text-align: right;\n    }\n</style>\n<table border=\"1\" class=\"dataframe\">\n  <thead>\n    <tr style=\"text-align: right;\">\n      <th></th>\n      <th>online_at</th>\n    </tr>\n  </thead>\n  <tbody>\n    <tr>\n      <th>0</th>\n      <td>2021-10-09</td>\n    </tr>\n    <tr>\n      <th>1</th>\n      <td>2021-10-10</td>\n    </tr>\n    <tr>\n      <th>2</th>\n      <td>2021-10-11</td>\n    </tr>\n    <tr>\n      <th>3</th>\n      <td>2021-10-12</td>\n    </tr>\n    <tr>\n      <th>4</th>\n      <td>2021-10-13</td>\n    </tr>\n    <tr>\n      <th>...</th>\n      <td>...</td>\n    </tr>\n    <tr>\n      <th>370</th>\n      <td>2022-10-14</td>\n    </tr>\n    <tr>\n      <th>371</th>\n      <td>2022-10-15</td>\n    </tr>\n    <tr>\n      <th>372</th>\n      <td>2022-10-16</td>\n    </tr>\n    <tr>\n      <th>373</th>\n      <td>2022-10-17</td>\n    </tr>\n    <tr>\n      <th>374</th>\n      <td>2022-10-18</td>\n    </tr>\n  </tbody>\n</table>\n<p>375 rows × 1 columns</p>\n</div>"
     },
     "execution_count": 52,
     "metadata": {},
     "output_type": "execute_result"
    }
   ],
   "source": [
    "display_sql(f'''\n",
    "WITH f_created_at AS (\n",
    "    SELECT DISTINCT online_at\n",
    "      FROM \"main\".\"main\".\"fact_online_job\" f\n",
    "), max_normalized AS (\n",
    "    SELECT MAX(online_at)\n",
    "      FROM \"main\".\"main\".\"normalized_online_job\"\n",
    "), n_created_at AS (\n",
    "    SELECT DISTINCT online_at\n",
    "      FROM \"main\".\"main\".\"normalized_online_job\"\n",
    ")\n",
    "SELECT * FROM n_created_at\n",
    "WHERE online_at != (SELECT * FROM max_normalized)\n",
    "ORDER BY 1\n",
    "''')"
   ],
   "metadata": {
    "collapsed": false,
    "pycharm": {
     "name": "#%%\n"
    }
   }
  },
  {
   "cell_type": "code",
   "execution_count": 53,
   "outputs": [
    {
     "data": {
      "text/plain": "Empty DataFrame\nColumns: [Count]\nIndex: []",
      "text/html": "<div>\n<style scoped>\n    .dataframe tbody tr th:only-of-type {\n        vertical-align: middle;\n    }\n\n    .dataframe tbody tr th {\n        vertical-align: top;\n    }\n\n    .dataframe thead th {\n        text-align: right;\n    }\n</style>\n<table border=\"1\" class=\"dataframe\">\n  <thead>\n    <tr style=\"text-align: right;\">\n      <th></th>\n      <th>Count</th>\n    </tr>\n  </thead>\n  <tbody>\n  </tbody>\n</table>\n</div>"
     },
     "execution_count": 53,
     "metadata": {},
     "output_type": "execute_result"
    }
   ],
   "source": [
    "display_sql(f'''\n",
    "CREATE OR REPLACE VIEW test_changelog AS\n",
    "WITH f_created_at AS (\n",
    "    SELECT DISTINCT online_at\n",
    "      FROM \"main\".\"main\".\"fact_online_job\" f\n",
    "), max_normalized AS (\n",
    "    SELECT MAX(online_at)\n",
    "      FROM \"main\".\"main\".\"normalized_online_job\"\n",
    "), n_created_at AS (\n",
    "    SELECT DISTINCT online_at\n",
    "      FROM \"main\".\"main\".\"normalized_online_job\"\n",
    "), n_created_at_without_max AS (\n",
    "    SELECT *\n",
    "      FROM n_created_at\n",
    "     WHERE online_at != (SELECT * FROM max_normalized)\n",
    "     ORDER BY 1\n",
    "), to_materialize AS (\n",
    "\n",
    "    SELECT DISTINCT f.online_at\n",
    "      FROM f_created_at f\n",
    "\n",
    "\n",
    "     LEFT OUTER JOIN n_created_at_without_max n\n",
    "       ON (f.online_at = n.online_at)\n",
    "    WHERE n.online_at IS NULL\n",
    "\n",
    "\n",
    "    ORDER BY 1\n",
    "\n",
    "), normalized AS (\n",
    "    SELECT f.online_at,\n",
    "           f.job_id,\n",
    "           j.company_name,\n",
    "           l.location_name,\n",
    "           t.technology_name\n",
    "      FROM to_materialize tm\n",
    "      JOIN \"main\".\"main\".\"fact_online_job\" f\n",
    "        ON (tm.online_at = f.online_at)\n",
    "      JOIN \"main\".\"main\".\"dim_job\" j\n",
    "        ON (f.job_key = j.job_key)\n",
    "      JOIN \"main\".\"main\".\"dim_job_location\" l\n",
    "        ON (f.job_key = l.job_key)\n",
    "      JOIN \"main\".\"main\".\"dim_job_technology\" t\n",
    "        ON (f.job_key = t.job_key)\n",
    "     ORDER BY 1\n",
    "), normalized_with_previous AS (\n",
    "    SELECT job_id,\n",
    "           location_name,\n",
    "           company_name,\n",
    "           technology_name,\n",
    "           online_at,\n",
    "           online_at - INTERVAL 1 DAY AS previous_day\n",
    "      FROM normalized\n",
    "), min_online_at AS (\n",
    "    SELECT MIN(online_at)\n",
    "      FROM normalized_with_previous\n",
    "), max_online_at AS (\n",
    "    SELECT MAX(online_at)\n",
    "      FROM normalized_with_previous\n",
    "), joined_normalized_with_previous AS (\n",
    "    SELECT DISTINCT\n",
    "           c.job_id,\n",
    "           c.online_at,\n",
    "           c.location_name,\n",
    "           c.company_name,\n",
    "           c.technology_name,\n",
    "           p.location_name AS previous_location_name,\n",
    "           p.company_name AS previous_company_name,\n",
    "           p.technology_name AS previous_technology_name,\n",
    "           p.online_at AS previous_online_at,\n",
    "           p.job_id AS previous_job_id\n",
    "      FROM normalized_with_previous c\n",
    "      FULL OUTER JOIN normalized_with_previous p\n",
    "        ON (c.job_id = p.job_id AND\n",
    "            c.location_name = p.location_name AND\n",
    "            c.company_name = p.company_name AND\n",
    "            c.technology_name = p.technology_name AND\n",
    "            c.previous_day = p.online_at)\n",
    ")\n",
    "SELECT COALESCE(job_id, previous_job_id) AS job_id,\n",
    "       COALESCE(location_name, previous_location_name) AS location_name,\n",
    "       COALESCE(company_name, previous_company_name) AS company_name,\n",
    "       COALESCE(technology_name, previous_technology_name) AS technology_name,\n",
    "       COALESCE(online_at, previous_online_at) AS online_at,\n",
    "       previous_job_id IS NULL AS added,\n",
    "       job_id IS NULL AS deleted\n",
    "  FROM joined_normalized_with_previous\n",
    " WHERE NOT COALESCE(online_at, previous_online_at) IN (SELECT * FROM max_online_at)\n",
    "   AND NOT COALESCE(online_at, previous_online_at) IN (SELECT * FROM min_online_at)\n",
    "''', read_only=False)"
   ],
   "metadata": {
    "collapsed": false,
    "pycharm": {
     "name": "#%%\n"
    }
   }
  },
  {
   "cell_type": "code",
   "execution_count": 54,
   "outputs": [
    {
     "data": {
      "text/plain": "   online_at  added  deleted  count(DISTINCT job_id)\n0 2022-10-20  False    False                  147731\n1 2022-10-20  False     True                    3609\n2 2022-10-20   True    False                    5164",
      "text/html": "<div>\n<style scoped>\n    .dataframe tbody tr th:only-of-type {\n        vertical-align: middle;\n    }\n\n    .dataframe tbody tr th {\n        vertical-align: top;\n    }\n\n    .dataframe thead th {\n        text-align: right;\n    }\n</style>\n<table border=\"1\" class=\"dataframe\">\n  <thead>\n    <tr style=\"text-align: right;\">\n      <th></th>\n      <th>online_at</th>\n      <th>added</th>\n      <th>deleted</th>\n      <th>count(DISTINCT job_id)</th>\n    </tr>\n  </thead>\n  <tbody>\n    <tr>\n      <th>0</th>\n      <td>2022-10-20</td>\n      <td>False</td>\n      <td>False</td>\n      <td>147731</td>\n    </tr>\n    <tr>\n      <th>1</th>\n      <td>2022-10-20</td>\n      <td>False</td>\n      <td>True</td>\n      <td>3609</td>\n    </tr>\n    <tr>\n      <th>2</th>\n      <td>2022-10-20</td>\n      <td>True</td>\n      <td>False</td>\n      <td>5164</td>\n    </tr>\n  </tbody>\n</table>\n</div>"
     },
     "execution_count": 54,
     "metadata": {},
     "output_type": "execute_result"
    }
   ],
   "source": [
    "df = display_sql(f'''\n",
    "SELECT online_at,\n",
    "       added,\n",
    "       deleted,\n",
    "       COUNT(DISTINCT job_id)\n",
    "  FROM test_changelog\n",
    "-- WHERE added OR deleted\n",
    " GROUP BY 1, 2, 3\n",
    " ORDER BY 1, 2, 3\n",
    "''')\n",
    "df"
   ],
   "metadata": {
    "collapsed": false,
    "pycharm": {
     "name": "#%%\n"
    }
   }
  },
  {
   "cell_type": "code",
   "execution_count": 55,
   "outputs": [
    {
     "data": {
      "text/plain": "   online_at  added\n0 2022-10-20   5164",
      "text/html": "<div>\n<style scoped>\n    .dataframe tbody tr th:only-of-type {\n        vertical-align: middle;\n    }\n\n    .dataframe tbody tr th {\n        vertical-align: top;\n    }\n\n    .dataframe thead th {\n        text-align: right;\n    }\n</style>\n<table border=\"1\" class=\"dataframe\">\n  <thead>\n    <tr style=\"text-align: right;\">\n      <th></th>\n      <th>online_at</th>\n      <th>added</th>\n    </tr>\n  </thead>\n  <tbody>\n    <tr>\n      <th>0</th>\n      <td>2022-10-20</td>\n      <td>5164</td>\n    </tr>\n  </tbody>\n</table>\n</div>"
     },
     "execution_count": 55,
     "metadata": {},
     "output_type": "execute_result"
    }
   ],
   "source": [
    "df = display_sql(f'''\n",
    "SELECT online_at,\n",
    "       COUNT(DISTINCT job_id) AS added\n",
    "  FROM test_changelog\n",
    " WHERE added\n",
    " GROUP BY 1\n",
    " ORDER BY 1\n",
    "''')\n",
    "df"
   ],
   "metadata": {
    "collapsed": false,
    "pycharm": {
     "name": "#%%\n"
    }
   }
  },
  {
   "cell_type": "code",
   "execution_count": 56,
   "outputs": [
    {
     "data": {
      "image/png": "[encoded data removed]"
     },
     "metadata": {},
     "output_type": "display_data"
    }
   ],
   "source": [
    "fig = calplot(\n",
    "    df,\n",
    "    x='online_at',\n",
    "    y='added',\n",
    "    colorscale='Greens'\n",
    ")\n",
    "fig.show('png')"
   ],
   "metadata": {
    "collapsed": false,
    "pycharm": {
     "name": "#%%\n"
    }
   }
  },
  {
   "cell_type": "code",
   "execution_count": 57,
   "outputs": [
    {
     "data": {
      "text/plain": "   online_at  deleted\n0 2022-10-20     3609",
      "text/html": "<div>\n<style scoped>\n    .dataframe tbody tr th:only-of-type {\n        vertical-align: middle;\n    }\n\n    .dataframe tbody tr th {\n        vertical-align: top;\n    }\n\n    .dataframe thead th {\n        text-align: right;\n    }\n</style>\n<table border=\"1\" class=\"dataframe\">\n  <thead>\n    <tr style=\"text-align: right;\">\n      <th></th>\n      <th>online_at</th>\n      <th>deleted</th>\n    </tr>\n  </thead>\n  <tbody>\n    <tr>\n      <th>0</th>\n      <td>2022-10-20</td>\n      <td>3609</td>\n    </tr>\n  </tbody>\n</table>\n</div>"
     },
     "execution_count": 57,
     "metadata": {},
     "output_type": "execute_result"
    }
   ],
   "source": [
    "df = display_sql(f'''\n",
    "SELECT online_at,\n",
    "       COUNT(DISTINCT job_id) AS deleted\n",
    "  FROM test_changelog\n",
    " WHERE deleted\n",
    " GROUP BY 1\n",
    " ORDER BY 1\n",
    "''')\n",
    "df"
   ],
   "metadata": {
    "collapsed": false,
    "pycharm": {
     "name": "#%%\n"
    }
   }
  },
  {
   "cell_type": "code",
   "execution_count": 58,
   "outputs": [
    {
     "data": {
      "image/png": "[encoded data removed]"
     },
     "metadata": {},
     "output_type": "display_data"
    }
   ],
   "source": [
    "fig = calplot(\n",
    "    df,\n",
    "    x='online_at',\n",
    "    y='deleted',\n",
    "    colorscale='Reds'\n",
    ")\n",
    "fig.show('png')"
   ],
   "metadata": {
    "collapsed": false,
    "pycharm": {
     "name": "#%%\n"
    }
   }
  },
  {
   "cell_type": "code",
   "execution_count": 59,
   "outputs": [
    {
     "data": {
      "text/plain": "Empty DataFrame\nColumns: [Success]\nIndex: []",
      "text/html": "<div>\n<style scoped>\n    .dataframe tbody tr th:only-of-type {\n        vertical-align: middle;\n    }\n\n    .dataframe tbody tr th {\n        vertical-align: top;\n    }\n\n    .dataframe thead th {\n        text-align: right;\n    }\n</style>\n<table border=\"1\" class=\"dataframe\">\n  <thead>\n    <tr style=\"text-align: right;\">\n      <th></th>\n      <th>Success</th>\n    </tr>\n  </thead>\n  <tbody>\n  </tbody>\n</table>\n</div>"
     },
     "execution_count": 59,
     "metadata": {},
     "output_type": "execute_result"
    }
   ],
   "source": [
    "display_sql(f'''\n",
    "DROP VIEW test_changelog\n",
    "''', read_only=False)"
   ],
   "metadata": {
    "collapsed": false,
    "pycharm": {
     "name": "#%%\n"
    }
   }
  }
 ],
 "metadata": {
  "kernelspec": {
   "display_name": "Python 3 (ipykernel)",
   "language": "python",
   "name": "python3"
  },
  "language_info": {
   "codemirror_mode": {
    "name": "ipython",
    "version": 3
   },
   "file_extension": ".py",
   "mimetype": "text/x-python",
   "name": "python",
   "nbconvert_exporter": "python",
   "pygments_lexer": "ipython3",
   "version": "3.10.6"
  }
 },
 "nbformat": 4,
 "nbformat_minor": 1
}