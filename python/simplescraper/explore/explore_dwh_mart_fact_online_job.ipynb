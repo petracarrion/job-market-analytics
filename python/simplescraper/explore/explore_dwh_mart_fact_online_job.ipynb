{
 "cells": [
  {
   "cell_type": "code",
   "execution_count": null,
   "outputs": [],
   "source": [
    "from common.explore import display_sql"
   ],
   "metadata": {
    "collapsed": false,
    "pycharm": {
     "name": "#%%\n"
    }
   }
  },
  {
   "cell_type": "code",
   "execution_count": 111,
   "outputs": [
    {
     "data": {
      "text/plain": "         date_key                           job_key   job_id  \\\n0      2022-09-01  941eadfbb6f8a8ba46cad9a7fcf6425a  1387144   \n1      2022-09-01  ed226b7326153fec9e1a4358829fccc7  1474671   \n2      2022-09-01  71aa008055314c7c03705818e6cea061  1486178   \n3      2022-09-01  0b2b50e1d861b65e1237a841b18e75a7  1565699   \n4      2022-09-01  9532967d07b6ec1af0794b563830d703  1579731   \n...           ...                               ...      ...   \n146338 2022-09-01  dcf0ad1bcaf1c42e8e6b49ab28f80d40  8673468   \n146339 2022-09-01  1f4ed39edda3d8549447337d3422cd1b  8670649   \n146340 2022-09-01  16af892b73bb74dc862ef9f83bba4032  8670952   \n146341 2022-09-01  d9ac479f5cd1922faee47ab603a7914a  8671232   \n146342 2022-09-01  ad4668f991539cd500e5dd1c152fc7fc  8673219   \n\n                  job_ldts  \n0      2022-03-28 18:00:00  \n1      2022-04-03 14:00:00  \n2      2022-03-28 18:00:00  \n3      2022-03-28 18:00:00  \n4      2022-03-28 18:00:00  \n...                    ...  \n146338 2022-09-01 16:00:00  \n146339 2022-09-01 08:00:00  \n146340 2022-09-01 09:00:00  \n146341 2022-09-01 10:00:00  \n146342 2022-09-01 14:00:00  \n\n[146343 rows x 4 columns]",
      "text/html": "<div>\n<style scoped>\n    .dataframe tbody tr th:only-of-type {\n        vertical-align: middle;\n    }\n\n    .dataframe tbody tr th {\n        vertical-align: top;\n    }\n\n    .dataframe thead th {\n        text-align: right;\n    }\n</style>\n<table border=\"1\" class=\"dataframe\">\n  <thead>\n    <tr style=\"text-align: right;\">\n      <th></th>\n      <th>date_key</th>\n      <th>job_key</th>\n      <th>job_id</th>\n      <th>job_ldts</th>\n    </tr>\n  </thead>\n  <tbody>\n    <tr>\n      <th>0</th>\n      <td>2022-09-01</td>\n      <td>941eadfbb6f8a8ba46cad9a7fcf6425a</td>\n      <td>1387144</td>\n      <td>2022-03-28 18:00:00</td>\n    </tr>\n    <tr>\n      <th>1</th>\n      <td>2022-09-01</td>\n      <td>ed226b7326153fec9e1a4358829fccc7</td>\n      <td>1474671</td>\n      <td>2022-04-03 14:00:00</td>\n    </tr>\n    <tr>\n      <th>2</th>\n      <td>2022-09-01</td>\n      <td>71aa008055314c7c03705818e6cea061</td>\n      <td>1486178</td>\n      <td>2022-03-28 18:00:00</td>\n    </tr>\n    <tr>\n      <th>3</th>\n      <td>2022-09-01</td>\n      <td>0b2b50e1d861b65e1237a841b18e75a7</td>\n      <td>1565699</td>\n      <td>2022-03-28 18:00:00</td>\n    </tr>\n    <tr>\n      <th>4</th>\n      <td>2022-09-01</td>\n      <td>9532967d07b6ec1af0794b563830d703</td>\n      <td>1579731</td>\n      <td>2022-03-28 18:00:00</td>\n    </tr>\n    <tr>\n      <th>...</th>\n      <td>...</td>\n      <td>...</td>\n      <td>...</td>\n      <td>...</td>\n    </tr>\n    <tr>\n      <th>146338</th>\n      <td>2022-09-01</td>\n      <td>dcf0ad1bcaf1c42e8e6b49ab28f80d40</td>\n      <td>8673468</td>\n      <td>2022-09-01 16:00:00</td>\n    </tr>\n    <tr>\n      <th>146339</th>\n      <td>2022-09-01</td>\n      <td>1f4ed39edda3d8549447337d3422cd1b</td>\n      <td>8670649</td>\n      <td>2022-09-01 08:00:00</td>\n    </tr>\n    <tr>\n      <th>146340</th>\n      <td>2022-09-01</td>\n      <td>16af892b73bb74dc862ef9f83bba4032</td>\n      <td>8670952</td>\n      <td>2022-09-01 09:00:00</td>\n    </tr>\n    <tr>\n      <th>146341</th>\n      <td>2022-09-01</td>\n      <td>d9ac479f5cd1922faee47ab603a7914a</td>\n      <td>8671232</td>\n      <td>2022-09-01 10:00:00</td>\n    </tr>\n    <tr>\n      <th>146342</th>\n      <td>2022-09-01</td>\n      <td>ad4668f991539cd500e5dd1c152fc7fc</td>\n      <td>8673219</td>\n      <td>2022-09-01 14:00:00</td>\n    </tr>\n  </tbody>\n</table>\n<p>146343 rows × 4 columns</p>\n</div>"
     },
     "execution_count": 111,
     "metadata": {},
     "output_type": "execute_result"
    }
   ],
   "source": [
    "display_sql(f'''\n",
    "WITH new_fact_online_job AS (\n",
    "SELECT online_at as date_key,\n",
    "       job_id\n",
    "  FROM curated.online_job\n",
    "  --LEFT OUTER JOIN fact_online_job ON\n",
    " WHERE year = 2022 AND\n",
    "       month = 09 AND\n",
    "       day = 01\n",
    ")\n",
    "SELECT new_fact_online_job.date_key as date_key,\n",
    "       latest_dim_job.job_key as job_key,\n",
    "       latest_dim_job.job_id as job_id,\n",
    "       latest_dim_job.job_ldts\n",
    "  FROM new_fact_online_job\n",
    " INNER JOIN latest_dim_job\n",
    "    ON (new_fact_online_job.job_id = latest_dim_job.job_id)\n",
    "''')\n"
   ],
   "metadata": {
    "collapsed": false,
    "pycharm": {
     "name": "#%%\n"
    }
   }
  },
  {
   "cell_type": "code",
   "execution_count": 108,
   "outputs": [
    {
     "data": {
      "text/plain": "       date_id   total\n0   2021-10-09  113858\n1   2021-10-10  111325\n2   2021-10-11  111745\n3   2021-10-12  114141\n4   2021-10-13  116319\n..         ...     ...\n353 2022-09-27  142943\n354 2022-09-28  145681\n355 2022-09-29  149173\n356 2022-09-30  150731\n357 2022-10-01  149331\n\n[358 rows x 2 columns]",
      "text/html": "<div>\n<style scoped>\n    .dataframe tbody tr th:only-of-type {\n        vertical-align: middle;\n    }\n\n    .dataframe tbody tr th {\n        vertical-align: top;\n    }\n\n    .dataframe thead th {\n        text-align: right;\n    }\n</style>\n<table border=\"1\" class=\"dataframe\">\n  <thead>\n    <tr style=\"text-align: right;\">\n      <th></th>\n      <th>date_id</th>\n      <th>total</th>\n    </tr>\n  </thead>\n  <tbody>\n    <tr>\n      <th>0</th>\n      <td>2021-10-09</td>\n      <td>113858</td>\n    </tr>\n    <tr>\n      <th>1</th>\n      <td>2021-10-10</td>\n      <td>111325</td>\n    </tr>\n    <tr>\n      <th>2</th>\n      <td>2021-10-11</td>\n      <td>111745</td>\n    </tr>\n    <tr>\n      <th>3</th>\n      <td>2021-10-12</td>\n      <td>114141</td>\n    </tr>\n    <tr>\n      <th>4</th>\n      <td>2021-10-13</td>\n      <td>116319</td>\n    </tr>\n    <tr>\n      <th>...</th>\n      <td>...</td>\n      <td>...</td>\n    </tr>\n    <tr>\n      <th>353</th>\n      <td>2022-09-27</td>\n      <td>142943</td>\n    </tr>\n    <tr>\n      <th>354</th>\n      <td>2022-09-28</td>\n      <td>145681</td>\n    </tr>\n    <tr>\n      <th>355</th>\n      <td>2022-09-29</td>\n      <td>149173</td>\n    </tr>\n    <tr>\n      <th>356</th>\n      <td>2022-09-30</td>\n      <td>150731</td>\n    </tr>\n    <tr>\n      <th>357</th>\n      <td>2022-10-01</td>\n      <td>149331</td>\n    </tr>\n  </tbody>\n</table>\n<p>358 rows × 2 columns</p>\n</div>"
     },
     "execution_count": 108,
     "metadata": {},
     "output_type": "execute_result"
    }
   ],
   "source": [
    "display_sql(f'''\n",
    "SELECT *\n",
    "  FROM fact_online_job\n",
    "''')"
   ],
   "metadata": {
    "collapsed": false,
    "pycharm": {
     "name": "#%%\n"
    }
   }
  }
 ],
 "metadata": {
  "kernelspec": {
   "display_name": "Python 3 (ipykernel)",
   "language": "python",
   "name": "python3"
  },
  "language_info": {
   "codemirror_mode": {
    "name": "ipython",
    "version": 3
   },
   "file_extension": ".py",
   "mimetype": "text/x-python",
   "name": "python",
   "nbconvert_exporter": "python",
   "pygments_lexer": "ipython3",
   "version": "3.10.6"
  }
 },
 "nbformat": 4,
 "nbformat_minor": 1
}