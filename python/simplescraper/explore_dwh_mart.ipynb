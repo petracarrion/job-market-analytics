{
 "cells": [
  {
   "cell_type": "code",
   "execution_count": 9,
   "metadata": {
    "pycharm": {
     "name": "#%%\n"
    }
   },
   "outputs": [],
   "source": [
    "import duckdb\n",
    "import pandas as pd\n",
    "import plotly.express as px\n",
    "from plotly_calplot import calplot\n",
    "\n",
    "from common.env_variables import DUCKDB_DWH_FILE\n",
    "\n",
    "\n",
    "def display_df(_df):\n",
    "    with pd.option_context('display.max_rows', None, 'display.max_columns', None, \"expand_frame_repr\", False,\n",
    "                           \"display.float_format\", '${:,.2f}'.format):\n",
    "        display(_df.fillna('.'))\n",
    "\n",
    "\n",
    "def display_sql(sql_statement):\n",
    "    conn = duckdb.connect(DUCKDB_DWH_FILE, read_only=True)\n",
    "    _df = conn.execute(sql_statement).df()\n",
    "    display_df(_df)\n",
    "    conn.close()\n",
    "    return _df\n"
   ]
  },
  {
   "cell_type": "code",
   "execution_count": 10,
   "outputs": [
    {
     "data": {
      "text/plain": "    job_id  total\n0  7543521     12\n1  7369771     10\n2  7723680      9\n3  7599993      8\n4  7571802      8",
      "text/html": "<div>\n<style scoped>\n    .dataframe tbody tr th:only-of-type {\n        vertical-align: middle;\n    }\n\n    .dataframe tbody tr th {\n        vertical-align: top;\n    }\n\n    .dataframe thead th {\n        text-align: right;\n    }\n</style>\n<table border=\"1\" class=\"dataframe\">\n  <thead>\n    <tr style=\"text-align: right;\">\n      <th></th>\n      <th>job_id</th>\n      <th>total</th>\n    </tr>\n  </thead>\n  <tbody>\n    <tr>\n      <th>0</th>\n      <td>7543521</td>\n      <td>12</td>\n    </tr>\n    <tr>\n      <th>1</th>\n      <td>7369771</td>\n      <td>10</td>\n    </tr>\n    <tr>\n      <th>2</th>\n      <td>7723680</td>\n      <td>9</td>\n    </tr>\n    <tr>\n      <th>3</th>\n      <td>7599993</td>\n      <td>8</td>\n    </tr>\n    <tr>\n      <th>4</th>\n      <td>7571802</td>\n      <td>8</td>\n    </tr>\n  </tbody>\n</table>\n</div>"
     },
     "metadata": {},
     "output_type": "display_data"
    }
   ],
   "source": [
    "_ = display_sql(f'''\n",
    "SELECT job_id,\n",
    "       COUNT(1) AS total\n",
    "  FROM curated.job_description\n",
    " GROUP BY 1\n",
    " ORDER BY 2 DESC\n",
    " LIMIT 5\n",
    "''')"
   ],
   "metadata": {
    "collapsed": false,
    "pycharm": {
     "name": "#%%\n"
    }
   }
  },
  {
   "cell_type": "code",
   "execution_count": 11,
   "metadata": {
    "pycharm": {
     "name": "#%%\n"
    }
   },
   "outputs": [
    {
     "data": {
      "text/plain": "        load_timestamp                                        title           online_date                                       job_hashdiff\n0  2022-01-26 16:26:20  Vertriebsmitarbeiter/in Innendienst (m/w/d)  2022-01-02T13:03:06Z  b55e16942b367490a89e79a2b5e5877ede96dddb845550...\n1  2022-01-20 10:00:00     Innendienst Vertrieb Ausstellung (m/w/d)  2022-01-02T13:03:06Z  23c8455292f8232cae2ef032bfcde68065eb54e3f4a403...\n2  2022-01-10 19:00:00  Mitarbeiter/in Vertrieb Ausstellung (m/w/d)  2022-01-02T13:03:06Z  558e6978d9474422c1aa11c1b3a2e9f35f80471394b7e0...\n3  2022-01-08 13:00:00                  Berater Ausstellung (m/w/d)  2022-01-02T13:03:06Z  d14b662ed262e04fb43262a4e3c2ee45d4d757942d525d...\n4  2021-12-18 14:00:00          Verkaufsberater Ausstellung (m/w/d)  2021-12-18T13:03:05Z  f89da56d3db440f3211df54f149910ead6010b6c1faa4b...\n5  2021-11-20 11:00:00                  Berater Ausstellung (m/w/d)  2021-11-13T17:03:10Z  c7e4b24bc45578706d3084ca1aa13d87587e51cdfc3843...\n6  2021-11-12 16:00:00              Fachberater Ausstellung (m/w/d)  2021-10-29T15:30:01Z  2e0925e3f4a375a9d7107ed4aa93988778e217867715c8...\n7  2021-11-10 17:00:00     Fachberater - Glaser / Schreiner (m/w/d)  2021-10-29T15:30:01Z  19d9b5c5a368417bf3f8fb92a6a4afabfa8c72068493cc...\n8  2021-10-14 21:00:00        Kaufmännische/r Angestellte/r (m/w/d)  2021-10-06T15:03:04Z  2834598b4c6db613f5b817a63f3ca1f24d7c255934d780...\n9  2021-10-07 08:00:00        Kaufmännische/r Angestellte/r (m/w/d)  2021-10-06T15:03:04Z  2834598b4c6db613f5b817a63f3ca1f24d7c255934d780...\n10 2021-10-06 11:00:00          Kaufmännischer Angestellter (m/w/d)  2021-09-21T14:32:36Z  ece25583874ad41ddec7b1354ec857881a2a540107650b...\n11 2021-10-05 08:00:00          Kaufmännischer Angestellter (m/w/d)  2021-09-21T14:32:36Z  ece25583874ad41ddec7b1354ec857881a2a540107650b...",
      "text/html": "<div>\n<style scoped>\n    .dataframe tbody tr th:only-of-type {\n        vertical-align: middle;\n    }\n\n    .dataframe tbody tr th {\n        vertical-align: top;\n    }\n\n    .dataframe thead th {\n        text-align: right;\n    }\n</style>\n<table border=\"1\" class=\"dataframe\">\n  <thead>\n    <tr style=\"text-align: right;\">\n      <th></th>\n      <th>load_timestamp</th>\n      <th>title</th>\n      <th>online_date</th>\n      <th>job_hashdiff</th>\n    </tr>\n  </thead>\n  <tbody>\n    <tr>\n      <th>0</th>\n      <td>2022-01-26 16:26:20</td>\n      <td>Vertriebsmitarbeiter/in Innendienst (m/w/d)</td>\n      <td>2022-01-02T13:03:06Z</td>\n      <td>b55e16942b367490a89e79a2b5e5877ede96dddb845550...</td>\n    </tr>\n    <tr>\n      <th>1</th>\n      <td>2022-01-20 10:00:00</td>\n      <td>Innendienst Vertrieb Ausstellung (m/w/d)</td>\n      <td>2022-01-02T13:03:06Z</td>\n      <td>23c8455292f8232cae2ef032bfcde68065eb54e3f4a403...</td>\n    </tr>\n    <tr>\n      <th>2</th>\n      <td>2022-01-10 19:00:00</td>\n      <td>Mitarbeiter/in Vertrieb Ausstellung (m/w/d)</td>\n      <td>2022-01-02T13:03:06Z</td>\n      <td>558e6978d9474422c1aa11c1b3a2e9f35f80471394b7e0...</td>\n    </tr>\n    <tr>\n      <th>3</th>\n      <td>2022-01-08 13:00:00</td>\n      <td>Berater Ausstellung (m/w/d)</td>\n      <td>2022-01-02T13:03:06Z</td>\n      <td>d14b662ed262e04fb43262a4e3c2ee45d4d757942d525d...</td>\n    </tr>\n    <tr>\n      <th>4</th>\n      <td>2021-12-18 14:00:00</td>\n      <td>Verkaufsberater Ausstellung (m/w/d)</td>\n      <td>2021-12-18T13:03:05Z</td>\n      <td>f89da56d3db440f3211df54f149910ead6010b6c1faa4b...</td>\n    </tr>\n    <tr>\n      <th>5</th>\n      <td>2021-11-20 11:00:00</td>\n      <td>Berater Ausstellung (m/w/d)</td>\n      <td>2021-11-13T17:03:10Z</td>\n      <td>c7e4b24bc45578706d3084ca1aa13d87587e51cdfc3843...</td>\n    </tr>\n    <tr>\n      <th>6</th>\n      <td>2021-11-12 16:00:00</td>\n      <td>Fachberater Ausstellung (m/w/d)</td>\n      <td>2021-10-29T15:30:01Z</td>\n      <td>2e0925e3f4a375a9d7107ed4aa93988778e217867715c8...</td>\n    </tr>\n    <tr>\n      <th>7</th>\n      <td>2021-11-10 17:00:00</td>\n      <td>Fachberater - Glaser / Schreiner (m/w/d)</td>\n      <td>2021-10-29T15:30:01Z</td>\n      <td>19d9b5c5a368417bf3f8fb92a6a4afabfa8c72068493cc...</td>\n    </tr>\n    <tr>\n      <th>8</th>\n      <td>2021-10-14 21:00:00</td>\n      <td>Kaufmännische/r Angestellte/r (m/w/d)</td>\n      <td>2021-10-06T15:03:04Z</td>\n      <td>2834598b4c6db613f5b817a63f3ca1f24d7c255934d780...</td>\n    </tr>\n    <tr>\n      <th>9</th>\n      <td>2021-10-07 08:00:00</td>\n      <td>Kaufmännische/r Angestellte/r (m/w/d)</td>\n      <td>2021-10-06T15:03:04Z</td>\n      <td>2834598b4c6db613f5b817a63f3ca1f24d7c255934d780...</td>\n    </tr>\n    <tr>\n      <th>10</th>\n      <td>2021-10-06 11:00:00</td>\n      <td>Kaufmännischer Angestellter (m/w/d)</td>\n      <td>2021-09-21T14:32:36Z</td>\n      <td>ece25583874ad41ddec7b1354ec857881a2a540107650b...</td>\n    </tr>\n    <tr>\n      <th>11</th>\n      <td>2021-10-05 08:00:00</td>\n      <td>Kaufmännischer Angestellter (m/w/d)</td>\n      <td>2021-09-21T14:32:36Z</td>\n      <td>ece25583874ad41ddec7b1354ec857881a2a540107650b...</td>\n    </tr>\n  </tbody>\n</table>\n</div>"
     },
     "metadata": {},
     "output_type": "display_data"
    }
   ],
   "source": [
    "_ = display_sql(f'''\n",
    "SELECT load_timestamp,\n",
    "       title,\n",
    "       online_date,\n",
    "       job_hashdiff\n",
    "  FROM curated.job_description\n",
    " WHERE job_id = 7543521\n",
    " ORDER BY load_timestamp DESC\n",
    " LIMIT 20\n",
    "''')"
   ]
  },
  {
   "cell_type": "code",
   "execution_count": 16,
   "outputs": [
    {
     "data": {
      "text/plain": "     job_id      load_timestamp                                        title online_status  is_anonymous  should_display_early_applicant     contract_type work_type           online_date          company_name                           description_introduction                       description_responsabilities                           description_requirements                                  description_perks                                       job_hashdiff day month  year  seqnum\n0   7543521 2022-01-26 16:26:20  Vertriebsmitarbeiter/in Innendienst (m/w/d)        online         False                           False  Feste Anstellung  Vollzeit  2022-01-02T13:03:06Z  Götz Management GmbH  EinleitungUnser Auftraggeber ist mit ca. 400 M...  Beratung der Besucher und Kunden\\nBesucherempf...  abgeschlossene handwerkliche oder kaufmännisch...  unbefristete Anstellung und hohe Arbeitsplatzs...  b55e16942b367490a89e79a2b5e5877ede96dddb845550...  26     1  2022       1\n1   7543521 2022-01-20 10:00:00     Innendienst Vertrieb Ausstellung (m/w/d)        online         False                           False  Feste Anstellung  Vollzeit  2022-01-02T13:03:06Z  Götz Management GmbH  EinleitungUnser Auftraggeber ist mit ca. 400 M...  Beratung der Besucher und Kunden\\nBesucherempf...  abgeschlossene handwerkliche oder kaufmännisch...  unbefristete Anstellung und hohe Arbeitsplatzs...  23c8455292f8232cae2ef032bfcde68065eb54e3f4a403...  20     1  2022       2\n2   7543521 2022-01-10 19:00:00  Mitarbeiter/in Vertrieb Ausstellung (m/w/d)        online         False                           False  Feste Anstellung  Vollzeit  2022-01-02T13:03:06Z  Götz Management GmbH  EinleitungUnser Auftraggeber ist mit ca. 400 M...  Beratung der Besucher und Kunden\\nBesucherempf...  abgeschlossene handwerkliche oder kaufmännisch...  unbefristete Anstellung und hohe Arbeitsplatzs...  558e6978d9474422c1aa11c1b3a2e9f35f80471394b7e0...  10     1  2022       3\n3   7543521 2022-01-08 13:00:00                  Berater Ausstellung (m/w/d)        online         False                           False  Feste Anstellung  Vollzeit  2022-01-02T13:03:06Z  Götz Management GmbH  EinleitungUnser Auftraggeber ist mit ca. 400 M...  Beratung der Besucher und Kunden\\nBesucherempf...  abgeschlossene handwerkliche oder kaufmännisch...  unbefristete Anstellung und hohe Arbeitsplatzs...  d14b662ed262e04fb43262a4e3c2ee45d4d757942d525d...   8     1  2022       4\n4   7543521 2021-12-18 14:00:00          Verkaufsberater Ausstellung (m/w/d)        online         False                           False  Feste Anstellung  Vollzeit  2021-12-18T13:03:05Z  Götz Management GmbH  EinleitungUnser Auftraggeber ist mit ca. 400 M...  Beratung der Besucher und Kunden\\nBesucherempf...  abgeschlossene handwerkliche oder kaufmännisch...  unbefristete Anstellung und hohe Arbeitsplatzs...  f89da56d3db440f3211df54f149910ead6010b6c1faa4b...  18    12  2021       5\n5   7543521 2021-11-20 11:00:00                  Berater Ausstellung (m/w/d)        online         False                           False  Feste Anstellung  Vollzeit  2021-11-13T17:03:10Z  Götz Management GmbH  EinleitungUnser Auftraggeber ist mit ca. 400 M...  Beratung der Besucher und Kunden\\nBesucherempf...  abgeschlossene handwerkliche oder kaufmännisch...  unbefristete Anstellung und hohe Arbeitsplatzs...  c7e4b24bc45578706d3084ca1aa13d87587e51cdfc3843...  20    11  2021       6\n6   7543521 2021-11-12 16:00:00              Fachberater Ausstellung (m/w/d)        online         False                           False  Feste Anstellung  Vollzeit  2021-10-29T15:30:01Z  Götz Management GmbH  EinleitungUnser Auftraggeber ist mit ca. 400 M...  Beratung der Besucher und Kunden\\nBesucherempf...  abgeschlossene handwerkliche oder kaufmännisch...  unbefristete Anstellung und hohe Arbeitsplatzs...  2e0925e3f4a375a9d7107ed4aa93988778e217867715c8...  12    11  2021       7\n7   7543521 2021-11-10 17:00:00     Fachberater - Glaser / Schreiner (m/w/d)        online         False                           False  Feste Anstellung  Vollzeit  2021-10-29T15:30:01Z  Götz Management GmbH  EinleitungUnser Auftraggeber ist mit ca. 400 M...  Beratung der Besucher und Kunden\\nBesucherempf...  abgeschlossene handwerkliche oder kaufmännisch...  unbefristete Anstellung und hohe Arbeitsplatzs...  19d9b5c5a368417bf3f8fb92a6a4afabfa8c72068493cc...  10    11  2021       8\n8   7543521 2021-10-14 21:00:00        Kaufmännische/r Angestellte/r (m/w/d)        online         False                            True  Feste Anstellung  Vollzeit  2021-10-06T15:03:04Z  Götz Management GmbH  EinleitungUnser Auftraggeber ist mit ca. 400 M...  Beratung der Besucher und Kunden\\nBesucherempf...  abgeschlossene handwerkliche oder kaufmännisch...  unbefristete Anstellung und hohe Arbeitsplatzs...  2834598b4c6db613f5b817a63f3ca1f24d7c255934d780...  14    10  2021       9\n9   7543521 2021-10-07 08:00:00        Kaufmännische/r Angestellte/r (m/w/d)        online         False                            True  Feste Anstellung  Vollzeit  2021-10-06T15:03:04Z  Götz Management GmbH  EinleitungUnser Auftraggeber ist mit ca. 400 M...  Beratung der Besucher und Kunden\\nBesucherempf...  abgeschlossene handwerkliche oder kaufmännisch...  unbefristete Anstellung und hohe Arbeitsplatzs...  2834598b4c6db613f5b817a63f3ca1f24d7c255934d780...   7    10  2021      10\n10  7543521 2021-10-06 11:00:00          Kaufmännischer Angestellter (m/w/d)        online         False                            True  Feste Anstellung  Vollzeit  2021-09-21T14:32:36Z  Götz Management GmbH  EinleitungUnser Auftraggeber ist mit ca. 400 M...  Wir sind auf der Suche nach einem talentierten...  abgeschlossene handwerkliche oder kaufmännisch...  unbefristete Anstellung und hohe Arbeitsplatzs...  ece25583874ad41ddec7b1354ec857881a2a540107650b...   6    10  2021      11\n11  7543521 2021-10-05 08:00:00          Kaufmännischer Angestellter (m/w/d)        online         False                            True  Feste Anstellung  Vollzeit  2021-09-21T14:32:36Z  Götz Management GmbH  EinleitungUnser Auftraggeber ist mit ca. 400 M...  Wir sind auf der Suche nach einem talentierten...  abgeschlossene handwerkliche oder kaufmännisch...  unbefristete Anstellung und hohe Arbeitsplatzs...  ece25583874ad41ddec7b1354ec857881a2a540107650b...   5    10  2021      12",
      "text/html": "<div>\n<style scoped>\n    .dataframe tbody tr th:only-of-type {\n        vertical-align: middle;\n    }\n\n    .dataframe tbody tr th {\n        vertical-align: top;\n    }\n\n    .dataframe thead th {\n        text-align: right;\n    }\n</style>\n<table border=\"1\" class=\"dataframe\">\n  <thead>\n    <tr style=\"text-align: right;\">\n      <th></th>\n      <th>job_id</th>\n      <th>load_timestamp</th>\n      <th>title</th>\n      <th>online_status</th>\n      <th>is_anonymous</th>\n      <th>should_display_early_applicant</th>\n      <th>contract_type</th>\n      <th>work_type</th>\n      <th>online_date</th>\n      <th>company_name</th>\n      <th>description_introduction</th>\n      <th>description_responsabilities</th>\n      <th>description_requirements</th>\n      <th>description_perks</th>\n      <th>job_hashdiff</th>\n      <th>day</th>\n      <th>month</th>\n      <th>year</th>\n      <th>seqnum</th>\n    </tr>\n  </thead>\n  <tbody>\n    <tr>\n      <th>0</th>\n      <td>7543521</td>\n      <td>2022-01-26 16:26:20</td>\n      <td>Vertriebsmitarbeiter/in Innendienst (m/w/d)</td>\n      <td>online</td>\n      <td>False</td>\n      <td>False</td>\n      <td>Feste Anstellung</td>\n      <td>Vollzeit</td>\n      <td>2022-01-02T13:03:06Z</td>\n      <td>Götz Management GmbH</td>\n      <td>EinleitungUnser Auftraggeber ist mit ca. 400 M...</td>\n      <td>Beratung der Besucher und Kunden\\nBesucherempf...</td>\n      <td>abgeschlossene handwerkliche oder kaufmännisch...</td>\n      <td>unbefristete Anstellung und hohe Arbeitsplatzs...</td>\n      <td>b55e16942b367490a89e79a2b5e5877ede96dddb845550...</td>\n      <td>26</td>\n      <td>1</td>\n      <td>2022</td>\n      <td>1</td>\n    </tr>\n    <tr>\n      <th>1</th>\n      <td>7543521</td>\n      <td>2022-01-20 10:00:00</td>\n      <td>Innendienst Vertrieb Ausstellung (m/w/d)</td>\n      <td>online</td>\n      <td>False</td>\n      <td>False</td>\n      <td>Feste Anstellung</td>\n      <td>Vollzeit</td>\n      <td>2022-01-02T13:03:06Z</td>\n      <td>Götz Management GmbH</td>\n      <td>EinleitungUnser Auftraggeber ist mit ca. 400 M...</td>\n      <td>Beratung der Besucher und Kunden\\nBesucherempf...</td>\n      <td>abgeschlossene handwerkliche oder kaufmännisch...</td>\n      <td>unbefristete Anstellung und hohe Arbeitsplatzs...</td>\n      <td>23c8455292f8232cae2ef032bfcde68065eb54e3f4a403...</td>\n      <td>20</td>\n      <td>1</td>\n      <td>2022</td>\n      <td>2</td>\n    </tr>\n    <tr>\n      <th>2</th>\n      <td>7543521</td>\n      <td>2022-01-10 19:00:00</td>\n      <td>Mitarbeiter/in Vertrieb Ausstellung (m/w/d)</td>\n      <td>online</td>\n      <td>False</td>\n      <td>False</td>\n      <td>Feste Anstellung</td>\n      <td>Vollzeit</td>\n      <td>2022-01-02T13:03:06Z</td>\n      <td>Götz Management GmbH</td>\n      <td>EinleitungUnser Auftraggeber ist mit ca. 400 M...</td>\n      <td>Beratung der Besucher und Kunden\\nBesucherempf...</td>\n      <td>abgeschlossene handwerkliche oder kaufmännisch...</td>\n      <td>unbefristete Anstellung und hohe Arbeitsplatzs...</td>\n      <td>558e6978d9474422c1aa11c1b3a2e9f35f80471394b7e0...</td>\n      <td>10</td>\n      <td>1</td>\n      <td>2022</td>\n      <td>3</td>\n    </tr>\n    <tr>\n      <th>3</th>\n      <td>7543521</td>\n      <td>2022-01-08 13:00:00</td>\n      <td>Berater Ausstellung (m/w/d)</td>\n      <td>online</td>\n      <td>False</td>\n      <td>False</td>\n      <td>Feste Anstellung</td>\n      <td>Vollzeit</td>\n      <td>2022-01-02T13:03:06Z</td>\n      <td>Götz Management GmbH</td>\n      <td>EinleitungUnser Auftraggeber ist mit ca. 400 M...</td>\n      <td>Beratung der Besucher und Kunden\\nBesucherempf...</td>\n      <td>abgeschlossene handwerkliche oder kaufmännisch...</td>\n      <td>unbefristete Anstellung und hohe Arbeitsplatzs...</td>\n      <td>d14b662ed262e04fb43262a4e3c2ee45d4d757942d525d...</td>\n      <td>8</td>\n      <td>1</td>\n      <td>2022</td>\n      <td>4</td>\n    </tr>\n    <tr>\n      <th>4</th>\n      <td>7543521</td>\n      <td>2021-12-18 14:00:00</td>\n      <td>Verkaufsberater Ausstellung (m/w/d)</td>\n      <td>online</td>\n      <td>False</td>\n      <td>False</td>\n      <td>Feste Anstellung</td>\n      <td>Vollzeit</td>\n      <td>2021-12-18T13:03:05Z</td>\n      <td>Götz Management GmbH</td>\n      <td>EinleitungUnser Auftraggeber ist mit ca. 400 M...</td>\n      <td>Beratung der Besucher und Kunden\\nBesucherempf...</td>\n      <td>abgeschlossene handwerkliche oder kaufmännisch...</td>\n      <td>unbefristete Anstellung und hohe Arbeitsplatzs...</td>\n      <td>f89da56d3db440f3211df54f149910ead6010b6c1faa4b...</td>\n      <td>18</td>\n      <td>12</td>\n      <td>2021</td>\n      <td>5</td>\n    </tr>\n    <tr>\n      <th>5</th>\n      <td>7543521</td>\n      <td>2021-11-20 11:00:00</td>\n      <td>Berater Ausstellung (m/w/d)</td>\n      <td>online</td>\n      <td>False</td>\n      <td>False</td>\n      <td>Feste Anstellung</td>\n      <td>Vollzeit</td>\n      <td>2021-11-13T17:03:10Z</td>\n      <td>Götz Management GmbH</td>\n      <td>EinleitungUnser Auftraggeber ist mit ca. 400 M...</td>\n      <td>Beratung der Besucher und Kunden\\nBesucherempf...</td>\n      <td>abgeschlossene handwerkliche oder kaufmännisch...</td>\n      <td>unbefristete Anstellung und hohe Arbeitsplatzs...</td>\n      <td>c7e4b24bc45578706d3084ca1aa13d87587e51cdfc3843...</td>\n      <td>20</td>\n      <td>11</td>\n      <td>2021</td>\n      <td>6</td>\n    </tr>\n    <tr>\n      <th>6</th>\n      <td>7543521</td>\n      <td>2021-11-12 16:00:00</td>\n      <td>Fachberater Ausstellung (m/w/d)</td>\n      <td>online</td>\n      <td>False</td>\n      <td>False</td>\n      <td>Feste Anstellung</td>\n      <td>Vollzeit</td>\n      <td>2021-10-29T15:30:01Z</td>\n      <td>Götz Management GmbH</td>\n      <td>EinleitungUnser Auftraggeber ist mit ca. 400 M...</td>\n      <td>Beratung der Besucher und Kunden\\nBesucherempf...</td>\n      <td>abgeschlossene handwerkliche oder kaufmännisch...</td>\n      <td>unbefristete Anstellung und hohe Arbeitsplatzs...</td>\n      <td>2e0925e3f4a375a9d7107ed4aa93988778e217867715c8...</td>\n      <td>12</td>\n      <td>11</td>\n      <td>2021</td>\n      <td>7</td>\n    </tr>\n    <tr>\n      <th>7</th>\n      <td>7543521</td>\n      <td>2021-11-10 17:00:00</td>\n      <td>Fachberater - Glaser / Schreiner (m/w/d)</td>\n      <td>online</td>\n      <td>False</td>\n      <td>False</td>\n      <td>Feste Anstellung</td>\n      <td>Vollzeit</td>\n      <td>2021-10-29T15:30:01Z</td>\n      <td>Götz Management GmbH</td>\n      <td>EinleitungUnser Auftraggeber ist mit ca. 400 M...</td>\n      <td>Beratung der Besucher und Kunden\\nBesucherempf...</td>\n      <td>abgeschlossene handwerkliche oder kaufmännisch...</td>\n      <td>unbefristete Anstellung und hohe Arbeitsplatzs...</td>\n      <td>19d9b5c5a368417bf3f8fb92a6a4afabfa8c72068493cc...</td>\n      <td>10</td>\n      <td>11</td>\n      <td>2021</td>\n      <td>8</td>\n    </tr>\n    <tr>\n      <th>8</th>\n      <td>7543521</td>\n      <td>2021-10-14 21:00:00</td>\n      <td>Kaufmännische/r Angestellte/r (m/w/d)</td>\n      <td>online</td>\n      <td>False</td>\n      <td>True</td>\n      <td>Feste Anstellung</td>\n      <td>Vollzeit</td>\n      <td>2021-10-06T15:03:04Z</td>\n      <td>Götz Management GmbH</td>\n      <td>EinleitungUnser Auftraggeber ist mit ca. 400 M...</td>\n      <td>Beratung der Besucher und Kunden\\nBesucherempf...</td>\n      <td>abgeschlossene handwerkliche oder kaufmännisch...</td>\n      <td>unbefristete Anstellung und hohe Arbeitsplatzs...</td>\n      <td>2834598b4c6db613f5b817a63f3ca1f24d7c255934d780...</td>\n      <td>14</td>\n      <td>10</td>\n      <td>2021</td>\n      <td>9</td>\n    </tr>\n    <tr>\n      <th>9</th>\n      <td>7543521</td>\n      <td>2021-10-07 08:00:00</td>\n      <td>Kaufmännische/r Angestellte/r (m/w/d)</td>\n      <td>online</td>\n      <td>False</td>\n      <td>True</td>\n      <td>Feste Anstellung</td>\n      <td>Vollzeit</td>\n      <td>2021-10-06T15:03:04Z</td>\n      <td>Götz Management GmbH</td>\n      <td>EinleitungUnser Auftraggeber ist mit ca. 400 M...</td>\n      <td>Beratung der Besucher und Kunden\\nBesucherempf...</td>\n      <td>abgeschlossene handwerkliche oder kaufmännisch...</td>\n      <td>unbefristete Anstellung und hohe Arbeitsplatzs...</td>\n      <td>2834598b4c6db613f5b817a63f3ca1f24d7c255934d780...</td>\n      <td>7</td>\n      <td>10</td>\n      <td>2021</td>\n      <td>10</td>\n    </tr>\n    <tr>\n      <th>10</th>\n      <td>7543521</td>\n      <td>2021-10-06 11:00:00</td>\n      <td>Kaufmännischer Angestellter (m/w/d)</td>\n      <td>online</td>\n      <td>False</td>\n      <td>True</td>\n      <td>Feste Anstellung</td>\n      <td>Vollzeit</td>\n      <td>2021-09-21T14:32:36Z</td>\n      <td>Götz Management GmbH</td>\n      <td>EinleitungUnser Auftraggeber ist mit ca. 400 M...</td>\n      <td>Wir sind auf der Suche nach einem talentierten...</td>\n      <td>abgeschlossene handwerkliche oder kaufmännisch...</td>\n      <td>unbefristete Anstellung und hohe Arbeitsplatzs...</td>\n      <td>ece25583874ad41ddec7b1354ec857881a2a540107650b...</td>\n      <td>6</td>\n      <td>10</td>\n      <td>2021</td>\n      <td>11</td>\n    </tr>\n    <tr>\n      <th>11</th>\n      <td>7543521</td>\n      <td>2021-10-05 08:00:00</td>\n      <td>Kaufmännischer Angestellter (m/w/d)</td>\n      <td>online</td>\n      <td>False</td>\n      <td>True</td>\n      <td>Feste Anstellung</td>\n      <td>Vollzeit</td>\n      <td>2021-09-21T14:32:36Z</td>\n      <td>Götz Management GmbH</td>\n      <td>EinleitungUnser Auftraggeber ist mit ca. 400 M...</td>\n      <td>Wir sind auf der Suche nach einem talentierten...</td>\n      <td>abgeschlossene handwerkliche oder kaufmännisch...</td>\n      <td>unbefristete Anstellung und hohe Arbeitsplatzs...</td>\n      <td>ece25583874ad41ddec7b1354ec857881a2a540107650b...</td>\n      <td>5</td>\n      <td>10</td>\n      <td>2021</td>\n      <td>12</td>\n    </tr>\n  </tbody>\n</table>\n</div>"
     },
     "metadata": {},
     "output_type": "display_data"
    }
   ],
   "source": [
    "_ = display_sql(f'''\n",
    "SELECT job_id,\n",
    "       load_timestamp\n",
    "FROM (\n",
    "    SELECT d.*,\n",
    "           row_number()\n",
    "           OVER (\n",
    "            PARTITION BY job_id ORDER BY load_timestamp DESC\n",
    "           ) AS seqnum\n",
    "      FROM curated.job_description d\n",
    "     WHERE job_id = 7543521\n",
    ") d\n",
    "WHERE seqnum = 1;\n",
    "''')"
   ],
   "metadata": {
    "collapsed": false,
    "pycharm": {
     "name": "#%%\n"
    }
   }
  },
  {
   "cell_type": "code",
   "execution_count": null,
   "outputs": [],
   "source": [
    "_ = display_sql(f'''\n",
    "WITH () AS\n",
    "\n",
    "SELECT job_id,\n",
    "       load_timestamp\n",
    "FROM (\n",
    "    SELECT d.*,\n",
    "           row_number()\n",
    "           OVER (\n",
    "            PARTITION BY job_id ORDER BY load_timestamp DESC\n",
    "           ) AS seqnum\n",
    "      FROM curated.job_description d\n",
    "     WHERE job_id = 7543521\n",
    ") d\n",
    "WHERE seqnum = 1;\n",
    "''')\n"
   ],
   "metadata": {
    "collapsed": false,
    "pycharm": {
     "name": "#%%\n"
    }
   }
  }
 ],
 "metadata": {
  "kernelspec": {
   "display_name": "Python 3 (ipykernel)",
   "language": "python",
   "name": "python3"
  },
  "language_info": {
   "codemirror_mode": {
    "name": "ipython",
    "version": 3
   },
   "file_extension": ".py",
   "mimetype": "text/x-python",
   "name": "python",
   "nbconvert_exporter": "python",
   "pygments_lexer": "ipython3",
   "version": "3.10.6"
  }
 },
 "nbformat": 4,
 "nbformat_minor": 1
}