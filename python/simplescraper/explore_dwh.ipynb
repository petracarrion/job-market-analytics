{
 "cells": [
  {
   "cell_type": "code",
   "execution_count": 39,
   "outputs": [],
   "source": [
    "import os\n",
    "import time\n",
    "\n",
    "import duckdb\n",
    "import pandas as pd\n",
    "import plotly.express as px\n",
    "import pyarrow.parquet as pq\n",
    "\n",
    "from common.env_variables import DUCKDB_DWH_FILE, CURATED_DIR, DATA_SOURCE_NAME\n",
    "from common.storage import load_cleansed_df\n",
    "from common.entity import SITEMAP, JOB_ONLINE"
   ],
   "metadata": {
    "collapsed": false,
    "pycharm": {
     "name": "#%%\n"
    }
   }
  },
  {
   "cell_type": "code",
   "execution_count": 40,
   "outputs": [],
   "source": [
    "conn = duckdb.connect(DUCKDB_DWH_FILE)"
   ],
   "metadata": {
    "collapsed": false,
    "pycharm": {
     "name": "#%%\n"
    }
   }
  },
  {
   "cell_type": "code",
   "execution_count": 41,
   "outputs": [],
   "source": [
    "entity = JOB_ONLINE"
   ],
   "metadata": {
    "collapsed": false,
    "pycharm": {
     "name": "#%%\n"
    }
   }
  },
  {
   "cell_type": "code",
   "execution_count": 42,
   "outputs": [
    {
     "name": "stdout",
     "output_type": "stream",
     "text": [
      "--- 0.8494131565093994 seconds ---\n",
      "         job_id      load_timestamp  online_at  \\\n",
      "0       8658436 2022-09-01 23:00:00 2022-09-01   \n",
      "1       8658437 2022-09-01 23:00:00 2022-09-01   \n",
      "2       8658438 2022-09-01 23:00:00 2022-09-01   \n",
      "3       8658440 2022-09-01 23:00:00 2022-09-01   \n",
      "4       8658442 2022-09-01 23:00:00 2022-09-01   \n",
      "...         ...                 ...        ...   \n",
      "142424  8658428 2022-09-01 23:00:00 2022-09-01   \n",
      "142425  8658429 2022-09-01 23:00:00 2022-09-01   \n",
      "142426  8658433 2022-09-01 23:00:00 2022-09-01   \n",
      "142427  8658434 2022-09-01 23:00:00 2022-09-01   \n",
      "142428  8658435 2022-09-01 23:00:00 2022-09-01   \n",
      "\n",
      "                                                      url  \\\n",
      "0       https://www.stepstone.de/stellenangebote--Kons...   \n",
      "1       https://www.stepstone.de/stellenangebote--Elek...   \n",
      "2       https://www.stepstone.de/stellenangebote--Team...   \n",
      "3       https://www.stepstone.de/stellenangebote--IT-S...   \n",
      "4       https://www.stepstone.de/stellenangebote--Ener...   \n",
      "...                                                   ...   \n",
      "142424  https://www.stepstone.de/stellenangebote--Dire...   \n",
      "142425  https://www.stepstone.de/stellenangebote--Inte...   \n",
      "142426  https://www.stepstone.de/stellenangebote--Cust...   \n",
      "142427  https://www.stepstone.de/stellenangebote--Fach...   \n",
      "142428  https://www.stepstone.de/stellenangebote--Masc...   \n",
      "\n",
      "                                      job_online_hashdiff day month  year  \n",
      "0       ac98560e6b81abe3be739f3d58d937a2f7b959da868f13...   1     9  2022  \n",
      "1       4b23ca52ba33ecfbbec46c1d28e58bb7405a67752710e0...   1     9  2022  \n",
      "2       0fa7526727d9ff9a401c2c027bb6b331034222b73296fc...   1     9  2022  \n",
      "3       58fb51dda70161e8870828210e34fedc9cdaff58482a89...   1     9  2022  \n",
      "4       27071ac325493f5d185d825b72220bffc9740b2a6b6ab2...   1     9  2022  \n",
      "...                                                   ...  ..   ...   ...  \n",
      "142424  927067625aa64216c93a196d023d6b9587ed7b0cf532d0...   1     9  2022  \n",
      "142425  4640316188261c5bad13d23a5b7b0955e39d36926cc10a...   1     9  2022  \n",
      "142426  d454d2a9a79627a8295654df9c8ba11d0d67f555c96e6a...   1     9  2022  \n",
      "142427  a550766c8cab5da04d70f2b19800961bd854043a2b5c51...   1     9  2022  \n",
      "142428  fa56c61b1af113e94527809069fdc898acf5353f77946a...   1     9  2022  \n",
      "\n",
      "[142429 rows x 8 columns]\n"
     ]
    }
   ],
   "source": [
    "start_time = time.time()\n",
    "df = conn.execute(f'''\n",
    "SELECT *\n",
    "FROM src_{entity.name}\n",
    "WHERE\n",
    "    year = 2022 AND\n",
    "    month = 9 AND\n",
    "    day = 1\n",
    ";\n",
    "''').df()\n",
    "print(\"--- %s seconds ---\" % (time.time() - start_time))\n",
    "print(df)"
   ],
   "metadata": {
    "collapsed": false,
    "pycharm": {
     "name": "#%%\n"
    }
   }
  },
  {
   "cell_type": "code",
   "execution_count": 43,
   "outputs": [
    {
     "name": "stdout",
     "output_type": "stream",
     "text": [
      "--- 2.15110182762146 seconds ---\n"
     ]
    }
   ],
   "source": [
    "start_time = time.time()\n",
    "df = conn.execute(f'''\n",
    "SELECT *\n",
    "FROM src_{entity.name}\n",
    "WHERE\n",
    "    year = 2022 AND\n",
    "    month = 9\n",
    ";\n",
    "''').df()\n",
    "print(\"--- %s seconds ---\" % (time.time() - start_time))\n",
    "# print(df)"
   ],
   "metadata": {
    "collapsed": false,
    "pycharm": {
     "name": "#%%\n"
    }
   }
  },
  {
   "cell_type": "code",
   "execution_count": 44,
   "outputs": [],
   "source": [
    "conn.close()"
   ],
   "metadata": {
    "collapsed": false,
    "pycharm": {
     "name": "#%%\n"
    }
   }
  }
 ],
 "metadata": {
  "kernelspec": {
   "display_name": "Python 3",
   "language": "python",
   "name": "python3"
  },
  "language_info": {
   "codemirror_mode": {
    "name": "ipython",
    "version": 2
   },
   "file_extension": ".py",
   "mimetype": "text/x-python",
   "name": "python",
   "nbconvert_exporter": "python",
   "pygments_lexer": "ipython2",
   "version": "2.7.6"
  }
 },
 "nbformat": 4,
 "nbformat_minor": 0
}